{
 "cells": [
  {
   "cell_type": "markdown",
   "metadata": {},
   "source": [
    "# Analysis of user behavior in a mobile application for purchasing products"
   ]
  },
  {
   "cell_type": "markdown",
   "metadata": {},
   "source": [
    "## Introduction"
   ]
  },
  {
   "cell_type": "markdown",
   "metadata": {},
   "source": [
    "User behavior in mobile applications depends on many factors and, as a result, varies significantly. To increase sales and revenue, it is necessary to make the right decisions regarding the functionality and design of such applications. Therefore, it is essential to carefully analyze user actions, formulate hypotheses for improving the product, and conduct tests.\n",
    "\n",
    "This project is aimed at analyzing user behavior in the mobile application of a startup that allows ordering food products. Among the project's goals are:\n",
    "\n",
    "- General study of user behavior.\n",
    "- Studying the sales funnel and determining the number of users who have reached the purchase stage, as well as identifying \"problematic\" steps.\n",
    "- Analyzing the results of an A/A/B test to make a decision on changing fonts in the application.\n",
    "\n",
    "To achieve the project goals, data on user events and actions will be uploaded, preprocessed, and analyzed. An event funnel will be defined, and the number of users at each step will be calculated. Next, the A/A/B test groups will be studied, the most popular event will be identified, and statistical hypotheses about the difference in user behavior in different groups will be formulated and tested. Finally, a general conclusion describing the results of the analysis will be drawn."
   ]
  },
  {
   "cell_type": "markdown",
   "metadata": {},
   "source": [
    "## Step 1. Imports and Data Upload"
   ]
  },
  {
   "cell_type": "code",
   "execution_count": 1,
   "metadata": {},
   "outputs": [],
   "source": [
    "import pandas as pd\n",
    "import numpy as np\n",
    "import datetime as dt\n",
    "import math as mth\n",
    "import seaborn as sns\n",
    "import matplotlib.pyplot as plt\n",
    "import plotly.express as px\n",
    "import plotly.io as pio\n",
    "from scipy import stats as st"
   ]
  },
  {
   "cell_type": "code",
   "execution_count": 2,
   "metadata": {},
   "outputs": [],
   "source": [
    "pio.renderers.default = \"png\""
   ]
  },
  {
   "cell_type": "code",
   "execution_count": 3,
   "metadata": {},
   "outputs": [],
   "source": [
    "data = pd.read_csv('./datasets/logs_exp.csv', sep='\\t')"
   ]
  },
  {
   "cell_type": "code",
   "execution_count": 4,
   "metadata": {},
   "outputs": [
    {
     "name": "stdout",
     "output_type": "stream",
     "text": [
      "<class 'pandas.core.frame.DataFrame'>\n",
      "RangeIndex: 244126 entries, 0 to 244125\n",
      "Data columns (total 4 columns):\n",
      " #   Column          Non-Null Count   Dtype \n",
      "---  ------          --------------   ----- \n",
      " 0   EventName       244126 non-null  object\n",
      " 1   DeviceIDHash    244126 non-null  int64 \n",
      " 2   EventTimestamp  244126 non-null  int64 \n",
      " 3   ExpId           244126 non-null  int64 \n",
      "dtypes: int64(3), object(1)\n",
      "memory usage: 7.5+ MB\n"
     ]
    }
   ],
   "source": [
    "data.info()"
   ]
  },
  {
   "cell_type": "code",
   "execution_count": 5,
   "metadata": {},
   "outputs": [
    {
     "data": {
      "text/html": [
       "<div>\n",
       "<style scoped>\n",
       "    .dataframe tbody tr th:only-of-type {\n",
       "        vertical-align: middle;\n",
       "    }\n",
       "\n",
       "    .dataframe tbody tr th {\n",
       "        vertical-align: top;\n",
       "    }\n",
       "\n",
       "    .dataframe thead th {\n",
       "        text-align: right;\n",
       "    }\n",
       "</style>\n",
       "<table border=\"1\" class=\"dataframe\">\n",
       "  <thead>\n",
       "    <tr style=\"text-align: right;\">\n",
       "      <th></th>\n",
       "      <th>EventName</th>\n",
       "      <th>DeviceIDHash</th>\n",
       "      <th>EventTimestamp</th>\n",
       "      <th>ExpId</th>\n",
       "    </tr>\n",
       "  </thead>\n",
       "  <tbody>\n",
       "    <tr>\n",
       "      <th>0</th>\n",
       "      <td>MainScreenAppear</td>\n",
       "      <td>4575588528974610257</td>\n",
       "      <td>1564029816</td>\n",
       "      <td>246</td>\n",
       "    </tr>\n",
       "    <tr>\n",
       "      <th>1</th>\n",
       "      <td>MainScreenAppear</td>\n",
       "      <td>7416695313311560658</td>\n",
       "      <td>1564053102</td>\n",
       "      <td>246</td>\n",
       "    </tr>\n",
       "    <tr>\n",
       "      <th>2</th>\n",
       "      <td>PaymentScreenSuccessful</td>\n",
       "      <td>3518123091307005509</td>\n",
       "      <td>1564054127</td>\n",
       "      <td>248</td>\n",
       "    </tr>\n",
       "    <tr>\n",
       "      <th>3</th>\n",
       "      <td>CartScreenAppear</td>\n",
       "      <td>3518123091307005509</td>\n",
       "      <td>1564054127</td>\n",
       "      <td>248</td>\n",
       "    </tr>\n",
       "    <tr>\n",
       "      <th>4</th>\n",
       "      <td>PaymentScreenSuccessful</td>\n",
       "      <td>6217807653094995999</td>\n",
       "      <td>1564055322</td>\n",
       "      <td>248</td>\n",
       "    </tr>\n",
       "  </tbody>\n",
       "</table>\n",
       "</div>"
      ],
      "text/plain": [
       "                 EventName         DeviceIDHash  EventTimestamp  ExpId\n",
       "0         MainScreenAppear  4575588528974610257      1564029816    246\n",
       "1         MainScreenAppear  7416695313311560658      1564053102    246\n",
       "2  PaymentScreenSuccessful  3518123091307005509      1564054127    248\n",
       "3         CartScreenAppear  3518123091307005509      1564054127    248\n",
       "4  PaymentScreenSuccessful  6217807653094995999      1564055322    248"
      ]
     },
     "execution_count": 5,
     "metadata": {},
     "output_type": "execute_result"
    }
   ],
   "source": [
    "data.head()"
   ]
  },
  {
   "cell_type": "markdown",
   "metadata": {},
   "source": [
    "The dataset contains 4 fields with information about events and actions:\n",
    "\n",
    "- Event name\n",
    "- User ID\n",
    "- Event time\n",
    "- Experiment number: 246 and 247 are control groups, while 248 is the experimental group.\n",
    "\n",
    "There are 244,126 records in the dataset."
   ]
  },
  {
   "cell_type": "markdown",
   "metadata": {},
   "source": [
    "## Step 2. Data Preprocessing"
   ]
  },
  {
   "cell_type": "code",
   "execution_count": 6,
   "metadata": {},
   "outputs": [
    {
     "data": {
      "text/html": [
       "<div>\n",
       "<style scoped>\n",
       "    .dataframe tbody tr th:only-of-type {\n",
       "        vertical-align: middle;\n",
       "    }\n",
       "\n",
       "    .dataframe tbody tr th {\n",
       "        vertical-align: top;\n",
       "    }\n",
       "\n",
       "    .dataframe thead th {\n",
       "        text-align: right;\n",
       "    }\n",
       "</style>\n",
       "<table border=\"1\" class=\"dataframe\">\n",
       "  <thead>\n",
       "    <tr style=\"text-align: right;\">\n",
       "      <th></th>\n",
       "      <th>event_name</th>\n",
       "      <th>user_id</th>\n",
       "      <th>event_datetime</th>\n",
       "      <th>group</th>\n",
       "    </tr>\n",
       "  </thead>\n",
       "  <tbody>\n",
       "    <tr>\n",
       "      <th>0</th>\n",
       "      <td>MainScreenAppear</td>\n",
       "      <td>4575588528974610257</td>\n",
       "      <td>1564029816</td>\n",
       "      <td>246</td>\n",
       "    </tr>\n",
       "    <tr>\n",
       "      <th>1</th>\n",
       "      <td>MainScreenAppear</td>\n",
       "      <td>7416695313311560658</td>\n",
       "      <td>1564053102</td>\n",
       "      <td>246</td>\n",
       "    </tr>\n",
       "    <tr>\n",
       "      <th>2</th>\n",
       "      <td>PaymentScreenSuccessful</td>\n",
       "      <td>3518123091307005509</td>\n",
       "      <td>1564054127</td>\n",
       "      <td>248</td>\n",
       "    </tr>\n",
       "    <tr>\n",
       "      <th>3</th>\n",
       "      <td>CartScreenAppear</td>\n",
       "      <td>3518123091307005509</td>\n",
       "      <td>1564054127</td>\n",
       "      <td>248</td>\n",
       "    </tr>\n",
       "    <tr>\n",
       "      <th>4</th>\n",
       "      <td>PaymentScreenSuccessful</td>\n",
       "      <td>6217807653094995999</td>\n",
       "      <td>1564055322</td>\n",
       "      <td>248</td>\n",
       "    </tr>\n",
       "  </tbody>\n",
       "</table>\n",
       "</div>"
      ],
      "text/plain": [
       "                event_name              user_id  event_datetime  group\n",
       "0         MainScreenAppear  4575588528974610257      1564029816    246\n",
       "1         MainScreenAppear  7416695313311560658      1564053102    246\n",
       "2  PaymentScreenSuccessful  3518123091307005509      1564054127    248\n",
       "3         CartScreenAppear  3518123091307005509      1564054127    248\n",
       "4  PaymentScreenSuccessful  6217807653094995999      1564055322    248"
      ]
     },
     "execution_count": 6,
     "metadata": {},
     "output_type": "execute_result"
    }
   ],
   "source": [
    "data.columns = ['event_name', 'user_id', 'event_datetime', 'group']\n",
    "data.head()"
   ]
  },
  {
   "cell_type": "code",
   "execution_count": 7,
   "metadata": {},
   "outputs": [
    {
     "name": "stdout",
     "output_type": "stream",
     "text": [
      "Missing values count:\n"
     ]
    },
    {
     "data": {
      "text/plain": [
       "event_name        0\n",
       "user_id           0\n",
       "event_datetime    0\n",
       "group             0\n",
       "dtype: int64"
      ]
     },
     "execution_count": 7,
     "metadata": {},
     "output_type": "execute_result"
    }
   ],
   "source": [
    "print('Missing values count:')\n",
    "data.isna().sum()"
   ]
  },
  {
   "cell_type": "code",
   "execution_count": 8,
   "metadata": {},
   "outputs": [
    {
     "data": {
      "text/plain": [
       "0   2019-07-25 04:43:36\n",
       "1   2019-07-25 11:11:42\n",
       "2   2019-07-25 11:28:47\n",
       "3   2019-07-25 11:28:47\n",
       "4   2019-07-25 11:48:42\n",
       "Name: event_datetime, dtype: datetime64[ns]"
      ]
     },
     "execution_count": 8,
     "metadata": {},
     "output_type": "execute_result"
    }
   ],
   "source": [
    "data['event_datetime'] = pd.to_datetime(data['event_datetime'], unit='s')\n",
    "data['event_datetime'].head()"
   ]
  },
  {
   "cell_type": "code",
   "execution_count": 9,
   "metadata": {},
   "outputs": [
    {
     "data": {
      "text/plain": [
       "0    2019-07-25\n",
       "1    2019-07-25\n",
       "2    2019-07-25\n",
       "3    2019-07-25\n",
       "4    2019-07-25\n",
       "Name: date, dtype: object"
      ]
     },
     "execution_count": 9,
     "metadata": {},
     "output_type": "execute_result"
    }
   ],
   "source": [
    "data['date'] = data['event_datetime'].dt.date\n",
    "data['date'].head()"
   ]
  },
  {
   "cell_type": "code",
   "execution_count": 10,
   "metadata": {},
   "outputs": [
    {
     "name": "stdout",
     "output_type": "stream",
     "text": [
      "Duplicates before preprocessing: 413\n",
      "Duplicates after preprocessing: 0\n"
     ]
    }
   ],
   "source": [
    "print(f'Duplicates before preprocessing: {data.duplicated().sum()}')\n",
    "data = data.drop_duplicates()\n",
    "print(f'Duplicates after preprocessing: {data.duplicated().sum()}')"
   ]
  },
  {
   "cell_type": "code",
   "execution_count": 11,
   "metadata": {},
   "outputs": [
    {
     "data": {
      "text/plain": [
       "array(['MainScreenAppear', 'PaymentScreenSuccessful', 'CartScreenAppear',\n",
       "       'OffersScreenAppear', 'Tutorial'], dtype=object)"
      ]
     },
     "execution_count": 11,
     "metadata": {},
     "output_type": "execute_result"
    }
   ],
   "source": [
    "data['event_name'].unique()"
   ]
  },
  {
   "cell_type": "markdown",
   "metadata": {},
   "source": [
    "As a result of data preprocessing:\n",
    "\n",
    "- Column names were brought to the correct format.\n",
    "  \n",
    "- No missing values were found in the data.\n",
    "\n",
    "- The column with date and time contained the number of seconds and was converted to the datetime format. The formats of the other columns are correct.\n",
    "\n",
    "- A new column called \"date\" was added, containing the date.\n",
    "\n",
    "- 413 duplicates were identified and removed.\n",
    "\n",
    "- No implicit duplicates were found."
   ]
  },
  {
   "cell_type": "markdown",
   "metadata": {},
   "source": [
    "## Step 3. Exploratory Data Analysis"
   ]
  },
  {
   "cell_type": "code",
   "execution_count": 12,
   "metadata": {},
   "outputs": [
    {
     "name": "stdout",
     "output_type": "stream",
     "text": [
      "Events' type count: 5\n",
      "Events' count in logs: 243713\n"
     ]
    }
   ],
   "source": [
    "events_total = len(data)\n",
    "print(f\"Events' type count: {data['event_name'].nunique()}\\nEvents' count in logs: {events_total}\")"
   ]
  },
  {
   "cell_type": "code",
   "execution_count": 13,
   "metadata": {},
   "outputs": [
    {
     "name": "stdout",
     "output_type": "stream",
     "text": [
      "Users' count in logs: 7551\n"
     ]
    }
   ],
   "source": [
    "users_total = data['user_id'].nunique()\n",
    "print(f\"Users' count in logs: {users_total}\")"
   ]
  },
  {
   "cell_type": "code",
   "execution_count": 14,
   "metadata": {},
   "outputs": [
    {
     "name": "stdout",
     "output_type": "stream",
     "text": [
      "Average actions per user: 32\n"
     ]
    }
   ],
   "source": [
    "print(f\"Average actions per user: {int(events_total / users_total)}\")"
   ]
  },
  {
   "cell_type": "code",
   "execution_count": 15,
   "metadata": {},
   "outputs": [
    {
     "name": "stdout",
     "output_type": "stream",
     "text": [
      "Data is present over the period from 2019-07-25 to 2019-08-07\n"
     ]
    }
   ],
   "source": [
    "print(f\"Data is present over the period from {data['date'].min()} to {data['date'].max()}\")"
   ]
  },
  {
   "cell_type": "code",
   "execution_count": 16,
   "metadata": {},
   "outputs": [
    {
     "data": {
      "image/png": "[encoded data removed]",
      "text/plain": [
       "<Figure size 640x480 with 1 Axes>"
      ]
     },
     "metadata": {},
     "output_type": "display_data"
    }
   ],
   "source": [
    "data[data['group'] == 246]['date'].hist(bins=15, alpha=0.5, color='blue', label=246)\n",
    "data[data['group'] == 247]['date'].hist(bins=15, alpha=0.5, color='yellow', label=247)\n",
    "data[data['group'] == 248]['date'].hist(bins=15, alpha=0.5, color='green', label=248)\n",
    "plt.title('Distribution of the events in groups by date')\n",
    "plt.xlabel('Date')\n",
    "plt.ylabel(\"Events' count\")\n",
    "plt.xticks(rotation=30)\n",
    "plt.legend()\n",
    "plt.show()"
   ]
  },
  {
   "cell_type": "markdown",
   "metadata": {},
   "source": [
    "According to the graph, despite having data from July 25th, the majority of the data is provided for the period from August 1st, 2019, to August 7th, 2018, meaning the experiment lasted exactly one week. Apparently, the data for the earlier period \"arrived in the log\" later. To avoid distorting the results, we will work with data dated from August 1st, 2019, onwards."
   ]
  },
  {
   "cell_type": "code",
   "execution_count": 17,
   "metadata": {},
   "outputs": [
    {
     "name": "stdout",
     "output_type": "stream",
     "text": [
      "Events count over the entire period: 243713\n",
      "Users count over the entire period: 7551\n",
      "Events count from 01-08-2019: 240887\n",
      "Users count from 01-08-2019: 7534\n",
      "Difference between events counts: -1.2%\n",
      "Difference between users counts: -0.2%\n"
     ]
    }
   ],
   "source": [
    "new_data = data[data['date'] >= dt.date(year=2019, month=8, day=1)]\n",
    "print('Events count over the entire period:', data.shape[0])\n",
    "print('Users count over the entire period:', data['user_id'].nunique())\n",
    "print('Events count from 01-08-2019:', new_data.shape[0])\n",
    "print('Users count from 01-08-2019:', new_data['user_id'].nunique())\n",
    "print('Difference between events counts: ''{:.1%}'.format((new_data.shape[0]-data.shape[0])/data.shape[0]))\n",
    "print('Difference between users counts: ''{:.1%}'.format((new_data['user_id'].nunique()-data['user_id'].nunique())/data['user_id'].nunique()))"
   ]
  },
  {
   "cell_type": "markdown",
   "metadata": {},
   "source": [
    "If we discard data before 01-08-2019, the number of events will decrease by 1.2% (from 243,713 to 240,887), and the number of unique users will decrease by only 0.2% (from 7,551 to 7,534). Such changes will not have a significant impact on the test results, so the old data can be excluded from further analysis."
   ]
  },
  {
   "cell_type": "code",
   "execution_count": 18,
   "metadata": {},
   "outputs": [],
   "source": [
    "data = data[data['date'] >= dt.date(year=2019, month=8, day=1)]"
   ]
  },
  {
   "cell_type": "code",
   "execution_count": 19,
   "metadata": {},
   "outputs": [
    {
     "data": {
      "text/html": [
       "<div>\n",
       "<style scoped>\n",
       "    .dataframe tbody tr th:only-of-type {\n",
       "        vertical-align: middle;\n",
       "    }\n",
       "\n",
       "    .dataframe tbody tr th {\n",
       "        vertical-align: top;\n",
       "    }\n",
       "\n",
       "    .dataframe thead th {\n",
       "        text-align: right;\n",
       "    }\n",
       "</style>\n",
       "<table border=\"1\" class=\"dataframe\">\n",
       "  <thead>\n",
       "    <tr style=\"text-align: right;\">\n",
       "      <th></th>\n",
       "      <th>user_id</th>\n",
       "    </tr>\n",
       "    <tr>\n",
       "      <th>group</th>\n",
       "      <th></th>\n",
       "    </tr>\n",
       "  </thead>\n",
       "  <tbody>\n",
       "    <tr>\n",
       "      <th>246</th>\n",
       "      <td>2484</td>\n",
       "    </tr>\n",
       "    <tr>\n",
       "      <th>247</th>\n",
       "      <td>2513</td>\n",
       "    </tr>\n",
       "    <tr>\n",
       "      <th>248</th>\n",
       "      <td>2537</td>\n",
       "    </tr>\n",
       "  </tbody>\n",
       "</table>\n",
       "</div>"
      ],
      "text/plain": [
       "       user_id\n",
       "group         \n",
       "246       2484\n",
       "247       2513\n",
       "248       2537"
      ]
     },
     "execution_count": 19,
     "metadata": {},
     "output_type": "execute_result"
    }
   ],
   "source": [
    "data.groupby('group').agg({'user_id': 'nunique'})"
   ]
  },
  {
   "cell_type": "markdown",
   "metadata": {},
   "source": [
    "Each of the experimental groups contains users. Groups 246 and 247 contain 2,484 and 2,513 users, respectively, while group 248 has 2,537 users."
   ]
  },
  {
   "cell_type": "markdown",
   "metadata": {},
   "source": [
    "## Step 4. Events funnel analysis"
   ]
  },
  {
   "cell_type": "code",
   "execution_count": 20,
   "metadata": {},
   "outputs": [
    {
     "data": {
      "image/png": "[encoded data removed]",
      "text/plain": [
       "<Figure size 800x500 with 1 Axes>"
      ]
     },
     "metadata": {},
     "output_type": "display_data"
    }
   ],
   "source": [
    "plt.figure(figsize=(8,5))\n",
    "data.groupby('event_name')['user_id'].count().sort_values().plot(kind='barh')\n",
    "plt.title('Distribution of events')\n",
    "plt.xlabel('Count')\n",
    "plt.ylabel('Event')\n",
    "plt.show()"
   ]
  },
  {
   "cell_type": "code",
   "execution_count": 21,
   "metadata": {},
   "outputs": [
    {
     "data": {
      "text/html": [
       "<div>\n",
       "<style scoped>\n",
       "    .dataframe tbody tr th:only-of-type {\n",
       "        vertical-align: middle;\n",
       "    }\n",
       "\n",
       "    .dataframe tbody tr th {\n",
       "        vertical-align: top;\n",
       "    }\n",
       "\n",
       "    .dataframe thead th {\n",
       "        text-align: right;\n",
       "    }\n",
       "</style>\n",
       "<table border=\"1\" class=\"dataframe\">\n",
       "  <thead>\n",
       "    <tr style=\"text-align: right;\">\n",
       "      <th></th>\n",
       "      <th>count</th>\n",
       "      <th>percentage</th>\n",
       "    </tr>\n",
       "    <tr>\n",
       "      <th>event_name</th>\n",
       "      <th></th>\n",
       "      <th></th>\n",
       "    </tr>\n",
       "  </thead>\n",
       "  <tbody>\n",
       "    <tr>\n",
       "      <th>MainScreenAppear</th>\n",
       "      <td>117328</td>\n",
       "      <td>48.14</td>\n",
       "    </tr>\n",
       "    <tr>\n",
       "      <th>OffersScreenAppear</th>\n",
       "      <td>46333</td>\n",
       "      <td>19.01</td>\n",
       "    </tr>\n",
       "    <tr>\n",
       "      <th>CartScreenAppear</th>\n",
       "      <td>42303</td>\n",
       "      <td>17.36</td>\n",
       "    </tr>\n",
       "    <tr>\n",
       "      <th>PaymentScreenSuccessful</th>\n",
       "      <td>33918</td>\n",
       "      <td>13.92</td>\n",
       "    </tr>\n",
       "    <tr>\n",
       "      <th>Tutorial</th>\n",
       "      <td>1005</td>\n",
       "      <td>0.41</td>\n",
       "    </tr>\n",
       "  </tbody>\n",
       "</table>\n",
       "</div>"
      ],
      "text/plain": [
       "                          count  percentage\n",
       "event_name                                 \n",
       "MainScreenAppear         117328       48.14\n",
       "OffersScreenAppear        46333       19.01\n",
       "CartScreenAppear          42303       17.36\n",
       "PaymentScreenSuccessful   33918       13.92\n",
       "Tutorial                   1005        0.41"
      ]
     },
     "execution_count": 21,
     "metadata": {},
     "output_type": "execute_result"
    }
   ],
   "source": [
    "events_count = pd.DataFrame()\n",
    "events_count['count'] = data.groupby('event_name')['user_id'].count()\n",
    "events_count['percentage'] = (events_count['count'] / events_total * 100).round(2)\n",
    "events_count = events_count.sort_values(by='percentage', ascending=False)\n",
    "events_count"
   ]
  },
  {
   "cell_type": "markdown",
   "metadata": {},
   "source": [
    "The data contains 5 types of events:\n",
    "\n",
    "- Tutorial - learning. The rarest event, constituting only 0.4% of the total. Users likely frequently skip it.\n",
    "\n",
    "- MainScreenAppear - appearance of the main application screen. This event is the most common, accounting for a whopping 48% of the total.\n",
    "\n",
    "- OffersScreenAppear - appearance of the offers screen. It represents 19% of the total number of events.\n",
    "\n",
    "- CartScreenAppear - appearance of the cart screen. It accounts for 17% of the total.\n",
    "\n",
    "- PaymentScreenSuccessful - appearance of the successful payment screen. The final step, almost 14% among all events."
   ]
  },
  {
   "cell_type": "code",
   "execution_count": 22,
   "metadata": {},
   "outputs": [
    {
     "data": {
      "text/html": [
       "<div>\n",
       "<style scoped>\n",
       "    .dataframe tbody tr th:only-of-type {\n",
       "        vertical-align: middle;\n",
       "    }\n",
       "\n",
       "    .dataframe tbody tr th {\n",
       "        vertical-align: top;\n",
       "    }\n",
       "\n",
       "    .dataframe thead th {\n",
       "        text-align: right;\n",
       "    }\n",
       "</style>\n",
       "<table border=\"1\" class=\"dataframe\">\n",
       "  <thead>\n",
       "    <tr style=\"text-align: right;\">\n",
       "      <th></th>\n",
       "      <th>user_count</th>\n",
       "      <th>percentage</th>\n",
       "      <th>total</th>\n",
       "      <th>unique_user_percentage</th>\n",
       "    </tr>\n",
       "    <tr>\n",
       "      <th>event_name</th>\n",
       "      <th></th>\n",
       "      <th></th>\n",
       "      <th></th>\n",
       "      <th></th>\n",
       "    </tr>\n",
       "  </thead>\n",
       "  <tbody>\n",
       "    <tr>\n",
       "      <th>MainScreenAppear</th>\n",
       "      <td>7419</td>\n",
       "      <td>98.25</td>\n",
       "      <td>117328</td>\n",
       "      <td>0.06</td>\n",
       "    </tr>\n",
       "    <tr>\n",
       "      <th>OffersScreenAppear</th>\n",
       "      <td>4593</td>\n",
       "      <td>60.83</td>\n",
       "      <td>46333</td>\n",
       "      <td>0.10</td>\n",
       "    </tr>\n",
       "    <tr>\n",
       "      <th>CartScreenAppear</th>\n",
       "      <td>3734</td>\n",
       "      <td>49.45</td>\n",
       "      <td>42303</td>\n",
       "      <td>0.09</td>\n",
       "    </tr>\n",
       "    <tr>\n",
       "      <th>PaymentScreenSuccessful</th>\n",
       "      <td>3539</td>\n",
       "      <td>46.87</td>\n",
       "      <td>33918</td>\n",
       "      <td>0.10</td>\n",
       "    </tr>\n",
       "    <tr>\n",
       "      <th>Tutorial</th>\n",
       "      <td>840</td>\n",
       "      <td>11.12</td>\n",
       "      <td>1005</td>\n",
       "      <td>0.84</td>\n",
       "    </tr>\n",
       "  </tbody>\n",
       "</table>\n",
       "</div>"
      ],
      "text/plain": [
       "                         user_count  percentage   total  \\\n",
       "event_name                                                \n",
       "MainScreenAppear               7419       98.25  117328   \n",
       "OffersScreenAppear             4593       60.83   46333   \n",
       "CartScreenAppear               3734       49.45   42303   \n",
       "PaymentScreenSuccessful        3539       46.87   33918   \n",
       "Tutorial                        840       11.12    1005   \n",
       "\n",
       "                         unique_user_percentage  \n",
       "event_name                                       \n",
       "MainScreenAppear                           0.06  \n",
       "OffersScreenAppear                         0.10  \n",
       "CartScreenAppear                           0.09  \n",
       "PaymentScreenSuccessful                    0.10  \n",
       "Tutorial                                   0.84  "
      ]
     },
     "execution_count": 22,
     "metadata": {},
     "output_type": "execute_result"
    }
   ],
   "source": [
    "user_events = data.groupby('event_name').agg({'user_id': 'nunique'}).rename(columns={'user_id': 'user_count'}).sort_values(by='user_count')\n",
    "user_events['percentage'] = (user_events['user_count'] / users_total * 100).round(2)\n",
    "user_events['total'] = events_count['count']\n",
    "user_events['unique_user_percentage'] = round(user_events['user_count'] / user_events['total'], 2)\n",
    "user_events.sort_values(by='user_count', ascending=False)"
   ]
  },
  {
   "cell_type": "markdown",
   "metadata": {},
   "source": [
    "The MainScreenAppear event is the most frequent, which is logical since it corresponds to opening the main page of the application. On the contrary, Tutorial is usually opened only once. The other events are repeated about 10 times on average."
   ]
  },
  {
   "cell_type": "code",
   "execution_count": 23,
   "metadata": {},
   "outputs": [
    {
     "data": {
      "image/png": "[encoded data removed]",
      "text/plain": [
       "<Figure size 800x500 with 1 Axes>"
      ]
     },
     "metadata": {},
     "output_type": "display_data"
    }
   ],
   "source": [
    "plt.figure(figsize=(8,5))\n",
    "user_events['user_count'].plot(kind='barh')\n",
    "plt.title('Count of users who performed actions')\n",
    "plt.xlabel('Users count')\n",
    "plt.ylabel('Event')\n",
    "plt.show()"
   ]
  },
  {
   "cell_type": "code",
   "execution_count": 24,
   "metadata": {},
   "outputs": [
    {
     "name": "stdout",
     "output_type": "stream",
     "text": [
      "The share of users who have completed at least 1 event.: 99.77%\n"
     ]
    }
   ],
   "source": [
    "active_users = data.groupby('user_id', as_index=False).agg({'event_name': 'count'}).rename(columns={'event_name': 'count'})\n",
    "active_users = len(active_users[active_users['count'] >= 1])\n",
    "print(f\"The share of users who have completed at least 1 event.: {'{0:.2f}'.format(active_users / users_total * 100)}%\")"
   ]
  },
  {
   "cell_type": "markdown",
   "metadata": {},
   "source": [
    "All events, except for the tutorial, form a sequential chain. Apparently, the tutorial appears at the first launch, but users skip it. It can be assumed that the application interface is already clear enough, so there is no need for a tutorial page. The next sequence of events is as follows:\n",
    "\n",
    "<b>Main Screen Appear -> Offers Screen Appear -> Cart Screen Appear -> Payment Screen Successful</b>\n",
    "\n",
    "Since the tutorial is not part of this sequence, we will exclude it from the funnel analysis."
   ]
  },
  {
   "cell_type": "code",
   "execution_count": 25,
   "metadata": {},
   "outputs": [
    {
     "data": {
      "text/html": [
       "<div>\n",
       "<style scoped>\n",
       "    .dataframe tbody tr th:only-of-type {\n",
       "        vertical-align: middle;\n",
       "    }\n",
       "\n",
       "    .dataframe tbody tr th {\n",
       "        vertical-align: top;\n",
       "    }\n",
       "\n",
       "    .dataframe thead th {\n",
       "        text-align: right;\n",
       "    }\n",
       "</style>\n",
       "<table border=\"1\" class=\"dataframe\">\n",
       "  <thead>\n",
       "    <tr style=\"text-align: right;\">\n",
       "      <th></th>\n",
       "      <th>event_name</th>\n",
       "      <th>user_count</th>\n",
       "      <th>conv</th>\n",
       "      <th>step_conv</th>\n",
       "    </tr>\n",
       "  </thead>\n",
       "  <tbody>\n",
       "    <tr>\n",
       "      <th>0</th>\n",
       "      <td>MainScreenAppear</td>\n",
       "      <td>7419</td>\n",
       "      <td>100.00</td>\n",
       "      <td>None</td>\n",
       "    </tr>\n",
       "    <tr>\n",
       "      <th>1</th>\n",
       "      <td>OffersScreenAppear</td>\n",
       "      <td>4593</td>\n",
       "      <td>61.91</td>\n",
       "      <td>61.91</td>\n",
       "    </tr>\n",
       "    <tr>\n",
       "      <th>2</th>\n",
       "      <td>CartScreenAppear</td>\n",
       "      <td>3734</td>\n",
       "      <td>50.33</td>\n",
       "      <td>81.3</td>\n",
       "    </tr>\n",
       "    <tr>\n",
       "      <th>3</th>\n",
       "      <td>PaymentScreenSuccessful</td>\n",
       "      <td>3539</td>\n",
       "      <td>47.70</td>\n",
       "      <td>94.77</td>\n",
       "    </tr>\n",
       "  </tbody>\n",
       "</table>\n",
       "</div>"
      ],
      "text/plain": [
       "                event_name  user_count    conv step_conv\n",
       "0         MainScreenAppear        7419  100.00      None\n",
       "1       OffersScreenAppear        4593   61.91     61.91\n",
       "2         CartScreenAppear        3734   50.33      81.3\n",
       "3  PaymentScreenSuccessful        3539   47.70     94.77"
      ]
     },
     "execution_count": 25,
     "metadata": {},
     "output_type": "execute_result"
    }
   ],
   "source": [
    "funnel = user_events['user_count'].drop('Tutorial').sort_values(ascending=False).reset_index()\n",
    "funnel['conv'] = (funnel['user_count'] / funnel['user_count'].max() * 100).round(2)\n",
    "funnel['step_conv'] = None\n",
    "for i in range(1, len(funnel)):\n",
    "    funnel.loc[i, 'step_conv'] = round(funnel.loc[i, 'conv'] / funnel.loc[i - 1, 'conv'] * 100, 2)\n",
    "funnel"
   ]
  },
  {
   "cell_type": "code",
   "execution_count": 26,
   "metadata": {},
   "outputs": [
    {
     "data": {
      "image/png": "[encoded data removed]",
      "text/plain": [
       "<Figure size 1600x500 with 2 Axes>"
      ]
     },
     "metadata": {},
     "output_type": "display_data"
    }
   ],
   "source": [
    "plt.figure(figsize=(16,5))\n",
    "funnel.plot(kind='line', x='event_name', y='conv', title=('Total conversion rate by event'), ax=plt.subplot(1, 2, 1))\n",
    "plt.ylim(0, 100)\n",
    "plt.xlabel('Event')\n",
    "plt.ylabel('Conversion %')\n",
    "funnel[1:4].plot(kind='line', x='event_name', y='step_conv', title=('Step conversion of users'), ax=plt.subplot(1, 2, 2))\n",
    "plt.xlabel('Step')\n",
    "plt.ylabel('Conversion %')\n",
    "plt.ylim(0, 100)\n",
    "plt.show()"
   ]
  },
  {
   "cell_type": "code",
   "execution_count": 27,
   "metadata": {},
   "outputs": [
    {
     "data": {
      "image/png": "[encoded data removed]"
     },
     "metadata": {},
     "output_type": "display_data"
    }
   ],
   "source": [
    "fig = px.funnel(funnel, x='user_count', y='event_name', title='Events funnel for users')\n",
    "fig.show()"
   ]
  },
  {
   "cell_type": "markdown",
   "metadata": {},
   "source": [
    "The majority of users, about 38%, drop off when transitioning from the main screen to the offers screen. Approximately 19% of users drop off at the cart screen step. Nearly 95% of users proceed from the cart to successful payment. In total, approximately 47.7% of users transition from the main screen to the successful payment screen.\n",
    "\n",
    "Based on the funnel analysis, it can be concluded that more than a third of users do not proceed from the main screen to the product page. It's necessary to improve conversion at this stage, for example, by using a special offers banner on the main screen. Additionally, 19% of users view products but do not add them to the cart. The conversion rate at the payment step is quite high, with only 5% of customers not completing the payment after adding items to the cart."
   ]
  },
  {
   "cell_type": "markdown",
   "metadata": {},
   "source": [
    "## Step 5. Experiment Results Analysis"
   ]
  },
  {
   "cell_type": "code",
   "execution_count": 28,
   "metadata": {},
   "outputs": [
    {
     "data": {
      "image/png": "[encoded data removed]",
      "text/plain": [
       "<Figure size 800x500 with 1 Axes>"
      ]
     },
     "metadata": {},
     "output_type": "display_data"
    }
   ],
   "source": [
    "user_groups = data.groupby('group').agg({'user_id': 'nunique'})\n",
    "user_groups['percentage'] = round(user_groups['user_id'] / users_total, 2)\n",
    "plt.figure(figsize=(8,5))\n",
    "user_groups['percentage'].plot(kind='pie', autopct='%d%%')\n",
    "plt.title('Distribution of users by group')\n",
    "plt.show()"
   ]
  },
  {
   "cell_type": "code",
   "execution_count": 29,
   "metadata": {
    "scrolled": true
   },
   "outputs": [
    {
     "data": {
      "text/html": [
       "<div>\n",
       "<style scoped>\n",
       "    .dataframe tbody tr th:only-of-type {\n",
       "        vertical-align: middle;\n",
       "    }\n",
       "\n",
       "    .dataframe tbody tr th {\n",
       "        vertical-align: top;\n",
       "    }\n",
       "\n",
       "    .dataframe thead th {\n",
       "        text-align: right;\n",
       "    }\n",
       "</style>\n",
       "<table border=\"1\" class=\"dataframe\">\n",
       "  <thead>\n",
       "    <tr style=\"text-align: right;\">\n",
       "      <th></th>\n",
       "      <th>user_id</th>\n",
       "      <th>percentage</th>\n",
       "    </tr>\n",
       "    <tr>\n",
       "      <th>group</th>\n",
       "      <th></th>\n",
       "      <th></th>\n",
       "    </tr>\n",
       "  </thead>\n",
       "  <tbody>\n",
       "    <tr>\n",
       "      <th>246</th>\n",
       "      <td>2484</td>\n",
       "      <td>0.33</td>\n",
       "    </tr>\n",
       "    <tr>\n",
       "      <th>247</th>\n",
       "      <td>2513</td>\n",
       "      <td>0.33</td>\n",
       "    </tr>\n",
       "    <tr>\n",
       "      <th>248</th>\n",
       "      <td>2537</td>\n",
       "      <td>0.34</td>\n",
       "    </tr>\n",
       "  </tbody>\n",
       "</table>\n",
       "</div>"
      ],
      "text/plain": [
       "       user_id  percentage\n",
       "group                     \n",
       "246       2484        0.33\n",
       "247       2513        0.33\n",
       "248       2537        0.34"
      ]
     },
     "execution_count": 29,
     "metadata": {},
     "output_type": "execute_result"
    }
   ],
   "source": [
    "user_groups"
   ]
  },
  {
   "cell_type": "markdown",
   "metadata": {},
   "source": [
    "Users are evenly distributed among the groups: groups 246 and 247 each contain 33% of the users, while group 248 contains 34%."
   ]
  },
  {
   "cell_type": "code",
   "execution_count": 30,
   "metadata": {},
   "outputs": [
    {
     "name": "stdout",
     "output_type": "stream",
     "text": [
      "Users, who ended up in several groups: 0\n"
     ]
    }
   ],
   "source": [
    "mult_group_users = data.groupby('user_id').agg({'group': 'nunique'})\n",
    "mult_group_users = mult_group_users[mult_group_users['group'] > 1]\n",
    "print(f'Users, who ended up in several groups: {len(mult_group_users)}')"
   ]
  },
  {
   "cell_type": "markdown",
   "metadata": {},
   "source": [
    "There are no users in the data who are assigned to more than one group."
   ]
  },
  {
   "cell_type": "code",
   "execution_count": 31,
   "metadata": {},
   "outputs": [
    {
     "data": {
      "text/html": [
       "<div>\n",
       "<style scoped>\n",
       "    .dataframe tbody tr th:only-of-type {\n",
       "        vertical-align: middle;\n",
       "    }\n",
       "\n",
       "    .dataframe tbody tr th {\n",
       "        vertical-align: top;\n",
       "    }\n",
       "\n",
       "    .dataframe thead th {\n",
       "        text-align: right;\n",
       "    }\n",
       "</style>\n",
       "<table border=\"1\" class=\"dataframe\">\n",
       "  <thead>\n",
       "    <tr style=\"text-align: right;\">\n",
       "      <th>event_name</th>\n",
       "      <th>group</th>\n",
       "      <th>CartScreenAppear</th>\n",
       "      <th>MainScreenAppear</th>\n",
       "      <th>OffersScreenAppear</th>\n",
       "      <th>PaymentScreenSuccessful</th>\n",
       "      <th>Tutorial</th>\n",
       "      <th>total</th>\n",
       "    </tr>\n",
       "  </thead>\n",
       "  <tbody>\n",
       "    <tr>\n",
       "      <th>0</th>\n",
       "      <td>246</td>\n",
       "      <td>1266</td>\n",
       "      <td>2450</td>\n",
       "      <td>1542</td>\n",
       "      <td>1200</td>\n",
       "      <td>278</td>\n",
       "      <td>2484</td>\n",
       "    </tr>\n",
       "    <tr>\n",
       "      <th>1</th>\n",
       "      <td>247</td>\n",
       "      <td>1238</td>\n",
       "      <td>2476</td>\n",
       "      <td>1520</td>\n",
       "      <td>1158</td>\n",
       "      <td>283</td>\n",
       "      <td>2513</td>\n",
       "    </tr>\n",
       "    <tr>\n",
       "      <th>2</th>\n",
       "      <td>248</td>\n",
       "      <td>1230</td>\n",
       "      <td>2493</td>\n",
       "      <td>1531</td>\n",
       "      <td>1181</td>\n",
       "      <td>279</td>\n",
       "      <td>2537</td>\n",
       "    </tr>\n",
       "  </tbody>\n",
       "</table>\n",
       "</div>"
      ],
      "text/plain": [
       "event_name  group  CartScreenAppear  MainScreenAppear  OffersScreenAppear  \\\n",
       "0             246              1266              2450                1542   \n",
       "1             247              1238              2476                1520   \n",
       "2             248              1230              2493                1531   \n",
       "\n",
       "event_name  PaymentScreenSuccessful  Tutorial  total  \n",
       "0                              1200       278   2484  \n",
       "1                              1158       283   2513  \n",
       "2                              1181       279   2537  "
      ]
     },
     "execution_count": 31,
     "metadata": {},
     "output_type": "execute_result"
    }
   ],
   "source": [
    "group_events = data.pivot_table(index='group', columns='event_name', values='user_id', aggfunc='nunique').reset_index()\n",
    "user_groups = user_groups.reset_index()\n",
    "group_events['total'] = user_groups['user_id']\n",
    "group_events"
   ]
  },
  {
   "cell_type": "markdown",
   "metadata": {},
   "source": [
    "Let's test the hypotheses regarding the equality of proportions of users who completed different events in the control groups 246 and 247:\n",
    "\n",
    "H0 - The proportions of users who completed the event are equal in groups 246 and 247.\n",
    "\n",
    "H1 - The proportions of users who completed the events are different between groups 246 and 247.\n",
    "\n",
    "We will set the statistical significance level at 0.05."
   ]
  },
  {
   "cell_type": "code",
   "execution_count": 32,
   "metadata": {},
   "outputs": [
    {
     "data": {
      "text/plain": [
       "<Figure size 800x500 with 0 Axes>"
      ]
     },
     "metadata": {},
     "output_type": "display_data"
    },
    {
     "data": {
      "image/png": "[encoded data removed]",
      "text/plain": [
       "<Figure size 640x480 with 1 Axes>"
      ]
     },
     "metadata": {},
     "output_type": "display_data"
    }
   ],
   "source": [
    "def event_stats(event: str, groups: list, alpha=0.05, message=False):\n",
    "    g1 = group_events[group_events['group'] == groups[0]] \n",
    "    g2 = group_events[group_events['group'] == groups[1]] \n",
    "    leads1 = g1['total'].item()\n",
    "    leads2 = g2['total'].item()\n",
    "    clicks1 = g1[event].item()\n",
    "    clicks2 = g2[event].item()\n",
    "    p1 = clicks1 / leads1\n",
    "    p2 = clicks2 / leads2\n",
    "    p_combined = (clicks1 + clicks2) / (leads1 + leads2)\n",
    "    difference = p1 - p2\n",
    "    z_value = (difference / mth.sqrt(p_combined * (1 - p_combined) * \n",
    "                                     (1/leads1 + 1/leads2)))\n",
    "    distr = st.norm(0, 1)\n",
    "\n",
    "    p_value = (1 - distr.cdf(abs(z_value))) * 2\n",
    "    if message:\n",
    "        print('Statistical significance:', alpha)\n",
    "        print('P-value:', p_value)\n",
    "        if p_value < alpha:\n",
    "            print('The null hypothesis is rejected.')\n",
    "        else:\n",
    "            print('The null hypothesis could not be rejected.')\n",
    "    else:\n",
    "        return p_value\n",
    "\n",
    "alpha = 0.05\n",
    "\n",
    "experiment_groups = pd.DataFrame()\n",
    "experiment_groups['event_name'] = data['event_name'].unique()\n",
    "experiment_groups['246_247'] = experiment_groups['event_name'].apply(event_stats, args=([246, 247],))\n",
    "\n",
    "plt.figure(figsize=(8,5))\n",
    "experiment_groups.plot(kind='bar', x='event_name', y='246_247')\n",
    "plt.title('The p-value calculated for the hypothesis testing the equality of proportions of events between the control groups 246 and 247.')\n",
    "plt.xlabel('Event')\n",
    "plt.ylabel('P-value')\n",
    "plt.xticks(rotation=30)\n",
    "plt.axhline(y=alpha, color='red', linestyle='--')\n",
    "plt.text(0, alpha + 0.01, 'Statistical significance')\n",
    "plt.show()"
   ]
  },
  {
   "cell_type": "markdown",
   "metadata": {},
   "source": [
    "As we can see from the graph, for each of the events, the p-value exceeds the level of statistical significance, indicating no grounds to reject the hypotheses of equality of proportions of users who performed each event between the control groups 246 and 247. The accuracy of calculations for the A/A experiment is confirmed."
   ]
  },
  {
   "cell_type": "markdown",
   "metadata": {},
   "source": [
    "<b>Now let's calculate the p-value for the same hypothesis, testing it on each pair of groups, including the group combining 246 and 247:</b>"
   ]
  },
  {
   "cell_type": "code",
   "execution_count": 33,
   "metadata": {},
   "outputs": [
    {
     "data": {
      "text/html": [
       "<div>\n",
       "<style scoped>\n",
       "    .dataframe tbody tr th:only-of-type {\n",
       "        vertical-align: middle;\n",
       "    }\n",
       "\n",
       "    .dataframe tbody tr th {\n",
       "        vertical-align: top;\n",
       "    }\n",
       "\n",
       "    .dataframe thead th {\n",
       "        text-align: right;\n",
       "    }\n",
       "</style>\n",
       "<table border=\"1\" class=\"dataframe\">\n",
       "  <thead>\n",
       "    <tr style=\"text-align: right;\">\n",
       "      <th>event_name</th>\n",
       "      <th>group</th>\n",
       "      <th>CartScreenAppear</th>\n",
       "      <th>MainScreenAppear</th>\n",
       "      <th>OffersScreenAppear</th>\n",
       "      <th>PaymentScreenSuccessful</th>\n",
       "      <th>Tutorial</th>\n",
       "      <th>total</th>\n",
       "    </tr>\n",
       "  </thead>\n",
       "  <tbody>\n",
       "    <tr>\n",
       "      <th>0</th>\n",
       "      <td>246</td>\n",
       "      <td>1266</td>\n",
       "      <td>2450</td>\n",
       "      <td>1542</td>\n",
       "      <td>1200</td>\n",
       "      <td>278</td>\n",
       "      <td>2484</td>\n",
       "    </tr>\n",
       "    <tr>\n",
       "      <th>1</th>\n",
       "      <td>247</td>\n",
       "      <td>1238</td>\n",
       "      <td>2476</td>\n",
       "      <td>1520</td>\n",
       "      <td>1158</td>\n",
       "      <td>283</td>\n",
       "      <td>2513</td>\n",
       "    </tr>\n",
       "    <tr>\n",
       "      <th>2</th>\n",
       "      <td>248</td>\n",
       "      <td>1230</td>\n",
       "      <td>2493</td>\n",
       "      <td>1531</td>\n",
       "      <td>1181</td>\n",
       "      <td>279</td>\n",
       "      <td>2537</td>\n",
       "    </tr>\n",
       "    <tr>\n",
       "      <th>3</th>\n",
       "      <td>493</td>\n",
       "      <td>2504</td>\n",
       "      <td>4926</td>\n",
       "      <td>3062</td>\n",
       "      <td>2358</td>\n",
       "      <td>561</td>\n",
       "      <td>4997</td>\n",
       "    </tr>\n",
       "  </tbody>\n",
       "</table>\n",
       "</div>"
      ],
      "text/plain": [
       "event_name  group  CartScreenAppear  MainScreenAppear  OffersScreenAppear  \\\n",
       "0             246              1266              2450                1542   \n",
       "1             247              1238              2476                1520   \n",
       "2             248              1230              2493                1531   \n",
       "3             493              2504              4926                3062   \n",
       "\n",
       "event_name  PaymentScreenSuccessful  Tutorial  total  \n",
       "0                              1200       278   2484  \n",
       "1                              1158       283   2513  \n",
       "2                              1181       279   2537  \n",
       "3                              2358       561   4997  "
      ]
     },
     "execution_count": 33,
     "metadata": {},
     "output_type": "execute_result"
    }
   ],
   "source": [
    "experiment_groups['246_248'] = experiment_groups['event_name'].apply(event_stats, args=([246, 248],))\n",
    "experiment_groups['247_248'] = experiment_groups['event_name'].apply(event_stats, args=([247, 248],))\n",
    "combined = pd.DataFrame(group_events[0:2].sum()).T\n",
    "group_events = pd.concat([group_events, combined]).reset_index(drop=True) # For convenience in calculations, the sum of groups 246 and 247 has been added to the dataframe\n",
    "group_events"
   ]
  },
  {
   "cell_type": "code",
   "execution_count": 34,
   "metadata": {},
   "outputs": [
    {
     "data": {
      "text/html": [
       "<div>\n",
       "<style scoped>\n",
       "    .dataframe tbody tr th:only-of-type {\n",
       "        vertical-align: middle;\n",
       "    }\n",
       "\n",
       "    .dataframe tbody tr th {\n",
       "        vertical-align: top;\n",
       "    }\n",
       "\n",
       "    .dataframe thead th {\n",
       "        text-align: right;\n",
       "    }\n",
       "</style>\n",
       "<table border=\"1\" class=\"dataframe\">\n",
       "  <thead>\n",
       "    <tr style=\"text-align: right;\">\n",
       "      <th></th>\n",
       "      <th>246_247</th>\n",
       "      <th>246_248</th>\n",
       "      <th>247_248</th>\n",
       "      <th>246+247_248</th>\n",
       "    </tr>\n",
       "    <tr>\n",
       "      <th>event_name</th>\n",
       "      <th></th>\n",
       "      <th></th>\n",
       "      <th></th>\n",
       "      <th></th>\n",
       "    </tr>\n",
       "  </thead>\n",
       "  <tbody>\n",
       "    <tr>\n",
       "      <th>Tutorial</th>\n",
       "      <td>0.937700</td>\n",
       "      <td>0.826429</td>\n",
       "      <td>0.765324</td>\n",
       "      <td>0.764862</td>\n",
       "    </tr>\n",
       "    <tr>\n",
       "      <th>MainScreenAppear</th>\n",
       "      <td>0.757060</td>\n",
       "      <td>0.294972</td>\n",
       "      <td>0.458705</td>\n",
       "      <td>0.294245</td>\n",
       "    </tr>\n",
       "    <tr>\n",
       "      <th>OffersScreenAppear</th>\n",
       "      <td>0.248095</td>\n",
       "      <td>0.208362</td>\n",
       "      <td>0.919782</td>\n",
       "      <td>0.434255</td>\n",
       "    </tr>\n",
       "    <tr>\n",
       "      <th>CartScreenAppear</th>\n",
       "      <td>0.228834</td>\n",
       "      <td>0.078429</td>\n",
       "      <td>0.578620</td>\n",
       "      <td>0.181759</td>\n",
       "    </tr>\n",
       "    <tr>\n",
       "      <th>PaymentScreenSuccessful</th>\n",
       "      <td>0.114567</td>\n",
       "      <td>0.212255</td>\n",
       "      <td>0.737342</td>\n",
       "      <td>0.600429</td>\n",
       "    </tr>\n",
       "  </tbody>\n",
       "</table>\n",
       "</div>"
      ],
      "text/plain": [
       "                          246_247   246_248   247_248  246+247_248\n",
       "event_name                                                        \n",
       "Tutorial                 0.937700  0.826429  0.765324     0.764862\n",
       "MainScreenAppear         0.757060  0.294972  0.458705     0.294245\n",
       "OffersScreenAppear       0.248095  0.208362  0.919782     0.434255\n",
       "CartScreenAppear         0.228834  0.078429  0.578620     0.181759\n",
       "PaymentScreenSuccessful  0.114567  0.212255  0.737342     0.600429"
      ]
     },
     "execution_count": 34,
     "metadata": {},
     "output_type": "execute_result"
    }
   ],
   "source": [
    "experiment_groups['246_248'] = experiment_groups['event_name'].apply(event_stats, args=([246, 248],))\n",
    "experiment_groups['247_248'] = experiment_groups['event_name'].apply(event_stats, args=([247, 248],))\n",
    "experiment_groups['246+247_248'] = experiment_groups['event_name'].apply(event_stats, args=([493, 248],))\n",
    "experiment_groups.index = experiment_groups['event_name']\n",
    "experiment_groups = experiment_groups.drop('event_name', axis=1)\n",
    "experiment_groups"
   ]
  },
  {
   "cell_type": "code",
   "execution_count": 35,
   "metadata": {},
   "outputs": [
    {
     "name": "stdout",
     "output_type": "stream",
     "text": [
      "Testing hypothesis for groups 246 and 248:\n",
      "\n",
      "Event: Tutorial\n",
      "Statistical significance: 0.05\n",
      "P-value: 0.8264294010087645\n",
      "The null hypothesis could not be rejected.\n",
      "\n",
      "Event: MainScreenAppear\n",
      "Statistical significance: 0.05\n",
      "P-value: 0.2949721933554552\n",
      "The null hypothesis could not be rejected.\n",
      "\n",
      "Event: OffersScreenAppear\n",
      "Statistical significance: 0.05\n",
      "P-value: 0.20836205402738917\n",
      "The null hypothesis could not be rejected.\n",
      "\n",
      "Event: CartScreenAppear\n",
      "Statistical significance: 0.05\n",
      "P-value: 0.07842923237520116\n",
      "The null hypothesis could not be rejected.\n",
      "\n",
      "Event: PaymentScreenSuccessful\n",
      "Statistical significance: 0.05\n",
      "P-value: 0.2122553275697796\n",
      "The null hypothesis could not be rejected.\n"
     ]
    }
   ],
   "source": [
    "print('Testing hypothesis for groups 246 and 248:')\n",
    "for event in experiment_groups.index:\n",
    "    print('')\n",
    "    print('Event:', event)\n",
    "    event_stats(event, [246, 248], message=True)"
   ]
  },
  {
   "cell_type": "code",
   "execution_count": 36,
   "metadata": {},
   "outputs": [
    {
     "name": "stdout",
     "output_type": "stream",
     "text": [
      "Testing the hypothesis for groups 247 and 248:\n",
      "\n",
      "Event: Tutorial\n",
      "Statistical significance: 0.05\n",
      "P-value: 0.765323922474501\n",
      "The null hypothesis could not be rejected.\n",
      "\n",
      "Event: MainScreenAppear\n",
      "Statistical significance: 0.05\n",
      "P-value: 0.4587053616621515\n",
      "The null hypothesis could not be rejected.\n",
      "\n",
      "Event: OffersScreenAppear\n",
      "Statistical significance: 0.05\n",
      "P-value: 0.9197817830592261\n",
      "The null hypothesis could not be rejected.\n",
      "\n",
      "Event: CartScreenAppear\n",
      "Statistical significance: 0.05\n",
      "P-value: 0.5786197879539783\n",
      "The null hypothesis could not be rejected.\n",
      "\n",
      "Event: PaymentScreenSuccessful\n",
      "Statistical significance: 0.05\n",
      "P-value: 0.7373415053803964\n",
      "The null hypothesis could not be rejected.\n"
     ]
    }
   ],
   "source": [
    "print('Testing the hypothesis for groups 247 and 248:')\n",
    "for event in experiment_groups.index:\n",
    "    print('')\n",
    "    print('Event:', event)\n",
    "    event_stats(event, [247, 248], message=True)"
   ]
  },
  {
   "cell_type": "code",
   "execution_count": 37,
   "metadata": {},
   "outputs": [
    {
     "name": "stdout",
     "output_type": "stream",
     "text": [
      "Hypothesis testing for the combined control group and the experimental group.:\n",
      "\n",
      "Event: Tutorial\n",
      "Statistical significance: 0.05\n",
      "P-value: 0.764862472531507\n",
      "The null hypothesis could not be rejected.\n",
      "\n",
      "Event: MainScreenAppear\n",
      "Statistical significance: 0.05\n",
      "P-value: 0.29424526837179577\n",
      "The null hypothesis could not be rejected.\n",
      "\n",
      "Event: OffersScreenAppear\n",
      "Statistical significance: 0.05\n",
      "P-value: 0.43425549655188256\n",
      "The null hypothesis could not be rejected.\n",
      "\n",
      "Event: CartScreenAppear\n",
      "Statistical significance: 0.05\n",
      "P-value: 0.18175875284404386\n",
      "The null hypothesis could not be rejected.\n",
      "\n",
      "Event: PaymentScreenSuccessful\n",
      "Statistical significance: 0.05\n",
      "P-value: 0.6004294282308704\n",
      "The null hypothesis could not be rejected.\n"
     ]
    }
   ],
   "source": [
    "print('Hypothesis testing for the combined control group and the experimental group.:')\n",
    "for event in experiment_groups.index:\n",
    "    print('')\n",
    "    print('Event:', event)\n",
    "    event_stats(event, [493, 248], message=True)"
   ]
  },
  {
   "cell_type": "code",
   "execution_count": 38,
   "metadata": {},
   "outputs": [
    {
     "data": {
      "image/png": "[encoded data removed]",
      "text/plain": [
       "<Figure size 800x500 with 2 Axes>"
      ]
     },
     "metadata": {},
     "output_type": "display_data"
    }
   ],
   "source": [
    "plt.figure(figsize=(8, 5))\n",
    "sns.heatmap(experiment_groups, vmin=0.05, annot=True)\n",
    "plt.title('P-value by event for different groups')\n",
    "plt.xlabel('Group')\n",
    "plt.ylabel('Event')\n",
    "plt.xticks(rotation=30)\n",
    "plt.show()"
   ]
  },
  {
   "cell_type": "markdown",
   "metadata": {},
   "source": [
    "This heatmap displays the p-value calculated for each pair of groups and each event. Let's recall our hypothesis:\n",
    "\n",
    "H0 - The proportions of users who perform the event are equal across groups.\n",
    "\n",
    "H1 - The proportions of users who perform the event differ across groups.\n",
    "\n",
    "According to the calculations, at a significance level of 0.05, the p-value exceeds it in each of the 20 cases. Thus, we can conclude that based on the statistical data, there is no reason to reject any of the 20 null hypotheses. Therefore, there is no evidence to suggest that the proportions of users performing each event differ between the control groups, between the control groups and the experimental group, as well as between the combined control group and the experimental group. It seems that changing fonts does not affect user behavior."
   ]
  },
  {
   "cell_type": "markdown",
   "metadata": {},
   "source": [
    "## Overall conclusion"
   ]
  },
  {
   "cell_type": "markdown",
   "metadata": {},
   "source": [
    "As a result of the data analysis, the following conclusions can be drawn:\n",
    "\n",
    "1) The analysis of the event funnel shows that 99.77% of users perform some actions in the application, with an average of 32 actions per user. Data was provided for 5 types of events. All of them, except the Tutorial event, form a sequential chain. Users first open the main application page, then proceed to the screen with offers. After selection, they add items to the cart and proceed to payment, resulting in the successful payment screen. It's worth noting that users often skip the Tutorial - only 11% view it. Overall, 47.7% of users reach the successful payment page. The event funnel demonstrates that a significant portion of users drop off at the main page, without accessing the offers. Thus, 38% of users are lost at this step. In this case, it is recommended to add an attractive banner, such as special offers, to redirect more users to the product page. Then, about 19% of users drop off before reaching the cart step. Finally, almost 95% of customers complete the purchase and reach the successful payment page.\n",
    "\n",
    "2) The analysis of the experiment results conducted during the week from 01-08-2019 to 07-08-2019 revealed that users are evenly distributed across groups, with no cases of users belonging to multiple groups. The A/A test confirmed the correctness of group distribution by showing statistical equality in the control groups. Testing the hypothesis of equality of the proportion of events between different groups showed that there is no difference in the frequency of events between the main and experimental groups, meaning no event occurred more or less frequently as a result of font changes in the application. It can be concluded that users do not care about the font used in the interface, and it does not affect their purchases.\n",
    "\n",
    "In conclusion, the data preprocessing and exploratory analysis were successfully conducted. The objectives of the study were achieved after analyzing the event funnel and the results of the A/A/B experiment. Necessary conclusions were made regarding user actions and the impact of fonts in the application on their behavior."
   ]
  }
 ],
 "metadata": {
  "ExecuteTimeLog": [
   {
    "duration": 1547,
    "start_time": "2023-10-25T14:08:43.290Z"
   },
   {
    "duration": 689,
    "start_time": "2023-10-25T14:08:44.839Z"
   },
   {
    "duration": 21,
    "start_time": "2023-10-25T14:08:45.530Z"
   },
   {
    "duration": 31,
    "start_time": "2023-10-25T14:08:45.553Z"
   },
   {
    "duration": 448,
    "start_time": "2023-10-25T14:08:45.587Z"
   },
   {
    "duration": 0,
    "start_time": "2023-10-25T14:08:46.037Z"
   },
   {
    "duration": 0,
    "start_time": "2023-10-25T14:08:46.038Z"
   },
   {
    "duration": 0,
    "start_time": "2023-10-25T14:08:46.039Z"
   },
   {
    "duration": 0,
    "start_time": "2023-10-25T14:08:46.041Z"
   },
   {
    "duration": 0,
    "start_time": "2023-10-25T14:08:46.042Z"
   },
   {
    "duration": 0,
    "start_time": "2023-10-25T14:08:46.043Z"
   },
   {
    "duration": 0,
    "start_time": "2023-10-25T14:08:46.044Z"
   },
   {
    "duration": 0,
    "start_time": "2023-10-25T14:08:46.045Z"
   },
   {
    "duration": 0,
    "start_time": "2023-10-25T14:08:46.046Z"
   },
   {
    "duration": 0,
    "start_time": "2023-10-25T14:08:46.048Z"
   },
   {
    "duration": 1,
    "start_time": "2023-10-25T14:08:46.049Z"
   },
   {
    "duration": 1,
    "start_time": "2023-10-25T14:08:46.050Z"
   },
   {
    "duration": 0,
    "start_time": "2023-10-25T14:08:46.052Z"
   },
   {
    "duration": 0,
    "start_time": "2023-10-25T14:08:46.053Z"
   },
   {
    "duration": 0,
    "start_time": "2023-10-25T14:08:46.054Z"
   },
   {
    "duration": 0,
    "start_time": "2023-10-25T14:08:46.056Z"
   },
   {
    "duration": 0,
    "start_time": "2023-10-25T14:08:46.057Z"
   },
   {
    "duration": 0,
    "start_time": "2023-10-25T14:08:46.058Z"
   },
   {
    "duration": 0,
    "start_time": "2023-10-25T14:08:46.058Z"
   },
   {
    "duration": 0,
    "start_time": "2023-10-25T14:08:46.059Z"
   },
   {
    "duration": 0,
    "start_time": "2023-10-25T14:08:46.061Z"
   },
   {
    "duration": 0,
    "start_time": "2023-10-25T14:08:46.062Z"
   },
   {
    "duration": 0,
    "start_time": "2023-10-25T14:08:46.063Z"
   },
   {
    "duration": 0,
    "start_time": "2023-10-25T14:08:46.064Z"
   },
   {
    "duration": 0,
    "start_time": "2023-10-25T14:08:46.065Z"
   },
   {
    "duration": 0,
    "start_time": "2023-10-25T14:08:46.067Z"
   },
   {
    "duration": 0,
    "start_time": "2023-10-25T14:08:46.068Z"
   },
   {
    "duration": 1180,
    "start_time": "2023-10-25T14:09:42.447Z"
   },
   {
    "duration": 364,
    "start_time": "2023-10-25T14:09:43.629Z"
   },
   {
    "duration": 34,
    "start_time": "2023-10-25T14:09:43.995Z"
   },
   {
    "duration": 30,
    "start_time": "2023-10-25T14:09:44.030Z"
   },
   {
    "duration": 662,
    "start_time": "2023-10-25T14:09:44.062Z"
   },
   {
    "duration": 0,
    "start_time": "2023-10-25T14:09:44.728Z"
   },
   {
    "duration": 0,
    "start_time": "2023-10-25T14:09:44.729Z"
   },
   {
    "duration": 0,
    "start_time": "2023-10-25T14:09:44.730Z"
   },
   {
    "duration": 0,
    "start_time": "2023-10-25T14:09:44.733Z"
   },
   {
    "duration": 0,
    "start_time": "2023-10-25T14:09:44.734Z"
   },
   {
    "duration": 0,
    "start_time": "2023-10-25T14:09:44.735Z"
   },
   {
    "duration": 0,
    "start_time": "2023-10-25T14:09:44.736Z"
   },
   {
    "duration": 0,
    "start_time": "2023-10-25T14:09:44.738Z"
   },
   {
    "duration": 0,
    "start_time": "2023-10-25T14:09:44.739Z"
   },
   {
    "duration": 0,
    "start_time": "2023-10-25T14:09:44.741Z"
   },
   {
    "duration": 0,
    "start_time": "2023-10-25T14:09:44.742Z"
   },
   {
    "duration": 0,
    "start_time": "2023-10-25T14:09:44.743Z"
   },
   {
    "duration": 0,
    "start_time": "2023-10-25T14:09:44.745Z"
   },
   {
    "duration": 0,
    "start_time": "2023-10-25T14:09:44.746Z"
   },
   {
    "duration": 0,
    "start_time": "2023-10-25T14:09:44.749Z"
   },
   {
    "duration": 0,
    "start_time": "2023-10-25T14:09:44.750Z"
   },
   {
    "duration": 0,
    "start_time": "2023-10-25T14:09:44.751Z"
   },
   {
    "duration": 0,
    "start_time": "2023-10-25T14:09:44.752Z"
   },
   {
    "duration": 0,
    "start_time": "2023-10-25T14:09:44.753Z"
   },
   {
    "duration": 0,
    "start_time": "2023-10-25T14:09:44.755Z"
   },
   {
    "duration": 0,
    "start_time": "2023-10-25T14:09:44.756Z"
   },
   {
    "duration": 0,
    "start_time": "2023-10-25T14:09:44.757Z"
   },
   {
    "duration": 0,
    "start_time": "2023-10-25T14:09:44.758Z"
   },
   {
    "duration": 0,
    "start_time": "2023-10-25T14:09:44.759Z"
   },
   {
    "duration": 0,
    "start_time": "2023-10-25T14:09:44.760Z"
   },
   {
    "duration": 0,
    "start_time": "2023-10-25T14:09:44.762Z"
   },
   {
    "duration": 0,
    "start_time": "2023-10-25T14:09:44.763Z"
   },
   {
    "duration": 1085,
    "start_time": "2023-10-25T17:10:36.886Z"
   },
   {
    "duration": 143,
    "start_time": "2023-10-25T17:10:37.972Z"
   },
   {
    "duration": 26,
    "start_time": "2023-10-25T17:10:38.117Z"
   },
   {
    "duration": 10,
    "start_time": "2023-10-25T17:10:38.145Z"
   },
   {
    "duration": 6,
    "start_time": "2023-10-25T17:10:38.157Z"
   },
   {
    "duration": 34,
    "start_time": "2023-10-25T17:10:38.164Z"
   },
   {
    "duration": 22,
    "start_time": "2023-10-25T17:10:38.200Z"
   },
   {
    "duration": 69,
    "start_time": "2023-10-25T17:10:38.223Z"
   },
   {
    "duration": 241,
    "start_time": "2023-10-25T17:10:38.293Z"
   },
   {
    "duration": 18,
    "start_time": "2023-10-25T17:10:38.540Z"
   },
   {
    "duration": 47,
    "start_time": "2023-10-25T17:10:38.559Z"
   },
   {
    "duration": 16,
    "start_time": "2023-10-25T17:10:38.608Z"
   },
   {
    "duration": 26,
    "start_time": "2023-10-25T17:10:38.625Z"
   },
   {
    "duration": 65,
    "start_time": "2023-10-25T17:10:38.653Z"
   },
   {
    "duration": 589,
    "start_time": "2023-10-25T17:10:38.720Z"
   },
   {
    "duration": 35,
    "start_time": "2023-10-25T17:10:39.311Z"
   },
   {
    "duration": 41,
    "start_time": "2023-10-25T17:10:39.347Z"
   },
   {
    "duration": 143,
    "start_time": "2023-10-25T17:10:39.389Z"
   },
   {
    "duration": 29,
    "start_time": "2023-10-25T17:10:39.533Z"
   },
   {
    "duration": 61,
    "start_time": "2023-10-25T17:10:39.563Z"
   },
   {
    "duration": 144,
    "start_time": "2023-10-25T17:10:39.626Z"
   },
   {
    "duration": 19,
    "start_time": "2023-10-25T17:10:39.772Z"
   },
   {
    "duration": 13,
    "start_time": "2023-10-25T17:10:39.793Z"
   },
   {
    "duration": 258,
    "start_time": "2023-10-25T17:10:39.808Z"
   },
   {
    "duration": 132,
    "start_time": "2023-10-25T17:10:40.069Z"
   },
   {
    "duration": 0,
    "start_time": "2023-10-25T17:10:40.203Z"
   },
   {
    "duration": 0,
    "start_time": "2023-10-25T17:10:40.204Z"
   },
   {
    "duration": 0,
    "start_time": "2023-10-25T17:10:40.204Z"
   },
   {
    "duration": 0,
    "start_time": "2023-10-25T17:10:40.205Z"
   },
   {
    "duration": 0,
    "start_time": "2023-10-25T17:10:40.206Z"
   },
   {
    "duration": 0,
    "start_time": "2023-10-25T17:10:40.207Z"
   },
   {
    "duration": 0,
    "start_time": "2023-10-25T17:10:40.208Z"
   },
   {
    "duration": 1215,
    "start_time": "2023-10-25T21:11:32.478Z"
   },
   {
    "duration": 178,
    "start_time": "2023-10-25T21:11:33.695Z"
   },
   {
    "duration": 31,
    "start_time": "2023-10-25T21:11:33.874Z"
   },
   {
    "duration": 45,
    "start_time": "2023-10-25T21:11:33.907Z"
   },
   {
    "duration": 43,
    "start_time": "2023-10-25T21:11:33.955Z"
   },
   {
    "duration": 52,
    "start_time": "2023-10-25T21:11:34.000Z"
   },
   {
    "duration": 48,
    "start_time": "2023-10-25T21:11:34.054Z"
   },
   {
    "duration": 129,
    "start_time": "2023-10-25T21:11:34.104Z"
   },
   {
    "duration": 286,
    "start_time": "2023-10-25T21:11:34.235Z"
   },
   {
    "duration": 31,
    "start_time": "2023-10-25T21:11:34.523Z"
   },
   {
    "duration": 69,
    "start_time": "2023-10-25T21:11:34.556Z"
   },
   {
    "duration": 56,
    "start_time": "2023-10-25T21:11:34.627Z"
   },
   {
    "duration": 19,
    "start_time": "2023-10-25T21:11:34.685Z"
   },
   {
    "duration": 98,
    "start_time": "2023-10-25T21:11:34.709Z"
   },
   {
    "duration": 647,
    "start_time": "2023-10-25T21:11:34.810Z"
   },
   {
    "duration": 45,
    "start_time": "2023-10-25T21:11:35.458Z"
   },
   {
    "duration": 89,
    "start_time": "2023-10-25T21:11:35.505Z"
   },
   {
    "duration": 177,
    "start_time": "2023-10-25T21:11:35.596Z"
   },
   {
    "duration": 32,
    "start_time": "2023-10-25T21:11:35.775Z"
   },
   {
    "duration": 77,
    "start_time": "2023-10-25T21:11:35.809Z"
   },
   {
    "duration": 181,
    "start_time": "2023-10-25T21:11:35.887Z"
   },
   {
    "duration": 34,
    "start_time": "2023-10-25T21:11:36.070Z"
   },
   {
    "duration": 69,
    "start_time": "2023-10-25T21:11:36.106Z"
   },
   {
    "duration": 299,
    "start_time": "2023-10-25T21:11:36.177Z"
   },
   {
    "duration": 145,
    "start_time": "2023-10-25T21:11:36.478Z"
   },
   {
    "duration": 0,
    "start_time": "2023-10-25T21:11:36.625Z"
   },
   {
    "duration": 0,
    "start_time": "2023-10-25T21:11:36.627Z"
   },
   {
    "duration": 0,
    "start_time": "2023-10-25T21:11:36.628Z"
   },
   {
    "duration": 0,
    "start_time": "2023-10-25T21:11:36.629Z"
   },
   {
    "duration": 0,
    "start_time": "2023-10-25T21:11:36.631Z"
   },
   {
    "duration": 0,
    "start_time": "2023-10-25T21:11:36.632Z"
   },
   {
    "duration": 0,
    "start_time": "2023-10-25T21:11:36.633Z"
   },
   {
    "duration": 47,
    "start_time": "2023-10-25T21:20:02.157Z"
   },
   {
    "duration": 1446,
    "start_time": "2023-10-25T21:20:08.156Z"
   },
   {
    "duration": 546,
    "start_time": "2023-10-25T21:20:09.604Z"
   },
   {
    "duration": 22,
    "start_time": "2023-10-25T21:20:10.152Z"
   },
   {
    "duration": 11,
    "start_time": "2023-10-25T21:20:10.175Z"
   },
   {
    "duration": 23,
    "start_time": "2023-10-25T21:20:10.187Z"
   },
   {
    "duration": 21,
    "start_time": "2023-10-25T21:20:10.215Z"
   },
   {
    "duration": 16,
    "start_time": "2023-10-25T21:20:10.238Z"
   },
   {
    "duration": 105,
    "start_time": "2023-10-25T21:20:10.256Z"
   },
   {
    "duration": 312,
    "start_time": "2023-10-25T21:20:10.363Z"
   },
   {
    "duration": 17,
    "start_time": "2023-10-25T21:20:10.676Z"
   },
   {
    "duration": 47,
    "start_time": "2023-10-25T21:20:10.695Z"
   },
   {
    "duration": 7,
    "start_time": "2023-10-25T21:20:10.743Z"
   },
   {
    "duration": 3,
    "start_time": "2023-10-25T21:20:10.752Z"
   },
   {
    "duration": 53,
    "start_time": "2023-10-25T21:20:10.757Z"
   },
   {
    "duration": 660,
    "start_time": "2023-10-25T21:20:10.813Z"
   },
   {
    "duration": 42,
    "start_time": "2023-10-25T21:20:11.474Z"
   },
   {
    "duration": 42,
    "start_time": "2023-10-25T21:20:11.518Z"
   },
   {
    "duration": 180,
    "start_time": "2023-10-25T21:20:11.562Z"
   },
   {
    "duration": 27,
    "start_time": "2023-10-25T21:20:11.744Z"
   },
   {
    "duration": 78,
    "start_time": "2023-10-25T21:20:11.772Z"
   },
   {
    "duration": 165,
    "start_time": "2023-10-25T21:20:11.852Z"
   },
   {
    "duration": 24,
    "start_time": "2023-10-25T21:20:12.019Z"
   },
   {
    "duration": 14,
    "start_time": "2023-10-25T21:20:12.045Z"
   },
   {
    "duration": 282,
    "start_time": "2023-10-25T21:20:12.061Z"
   },
   {
    "duration": 113,
    "start_time": "2023-10-25T21:20:12.345Z"
   },
   {
    "duration": 0,
    "start_time": "2023-10-25T21:20:12.460Z"
   },
   {
    "duration": 0,
    "start_time": "2023-10-25T21:20:12.461Z"
   },
   {
    "duration": 0,
    "start_time": "2023-10-25T21:20:12.462Z"
   },
   {
    "duration": 0,
    "start_time": "2023-10-25T21:20:12.463Z"
   },
   {
    "duration": 0,
    "start_time": "2023-10-25T21:20:12.464Z"
   },
   {
    "duration": 0,
    "start_time": "2023-10-25T21:20:12.465Z"
   },
   {
    "duration": 0,
    "start_time": "2023-10-25T21:20:12.466Z"
   },
   {
    "duration": 1313,
    "start_time": "2023-10-25T21:21:06.294Z"
   },
   {
    "duration": 187,
    "start_time": "2023-10-25T21:21:07.610Z"
   },
   {
    "duration": 29,
    "start_time": "2023-10-25T21:21:07.798Z"
   },
   {
    "duration": 10,
    "start_time": "2023-10-25T21:21:07.829Z"
   },
   {
    "duration": 12,
    "start_time": "2023-10-25T21:21:07.841Z"
   },
   {
    "duration": 26,
    "start_time": "2023-10-25T21:21:07.855Z"
   },
   {
    "duration": 37,
    "start_time": "2023-10-25T21:21:07.883Z"
   },
   {
    "duration": 116,
    "start_time": "2023-10-25T21:21:07.922Z"
   },
   {
    "duration": 279,
    "start_time": "2023-10-25T21:21:08.040Z"
   },
   {
    "duration": 19,
    "start_time": "2023-10-25T21:21:08.321Z"
   },
   {
    "duration": 29,
    "start_time": "2023-10-25T21:21:08.342Z"
   },
   {
    "duration": 6,
    "start_time": "2023-10-25T21:21:08.373Z"
   },
   {
    "duration": 30,
    "start_time": "2023-10-25T21:21:08.380Z"
   },
   {
    "duration": 102,
    "start_time": "2023-10-25T21:21:08.415Z"
   },
   {
    "duration": 682,
    "start_time": "2023-10-25T21:21:08.519Z"
   },
   {
    "duration": 41,
    "start_time": "2023-10-25T21:21:09.207Z"
   },
   {
    "duration": 36,
    "start_time": "2023-10-25T21:21:09.250Z"
   },
   {
    "duration": 199,
    "start_time": "2023-10-25T21:21:09.288Z"
   },
   {
    "duration": 40,
    "start_time": "2023-10-25T21:21:09.488Z"
   },
   {
    "duration": 60,
    "start_time": "2023-10-25T21:21:09.530Z"
   },
   {
    "duration": 167,
    "start_time": "2023-10-25T21:21:09.591Z"
   },
   {
    "duration": 27,
    "start_time": "2023-10-25T21:21:09.760Z"
   },
   {
    "duration": 37,
    "start_time": "2023-10-25T21:21:09.789Z"
   },
   {
    "duration": 311,
    "start_time": "2023-10-25T21:21:09.828Z"
   },
   {
    "duration": 414,
    "start_time": "2023-10-25T21:21:10.140Z"
   },
   {
    "duration": 0,
    "start_time": "2023-10-25T21:21:10.556Z"
   },
   {
    "duration": 0,
    "start_time": "2023-10-25T21:21:10.557Z"
   },
   {
    "duration": 0,
    "start_time": "2023-10-25T21:21:10.558Z"
   },
   {
    "duration": 0,
    "start_time": "2023-10-25T21:21:10.559Z"
   },
   {
    "duration": 0,
    "start_time": "2023-10-25T21:21:10.561Z"
   },
   {
    "duration": 0,
    "start_time": "2023-10-25T21:21:10.562Z"
   },
   {
    "duration": 0,
    "start_time": "2023-10-25T21:21:10.563Z"
   },
   {
    "duration": 1207,
    "start_time": "2023-10-25T21:22:24.003Z"
   },
   {
    "duration": 183,
    "start_time": "2023-10-25T21:22:25.212Z"
   },
   {
    "duration": 31,
    "start_time": "2023-10-25T21:22:25.397Z"
   },
   {
    "duration": 11,
    "start_time": "2023-10-25T21:22:25.430Z"
   },
   {
    "duration": 18,
    "start_time": "2023-10-25T21:22:25.443Z"
   },
   {
    "duration": 39,
    "start_time": "2023-10-25T21:22:25.462Z"
   },
   {
    "duration": 20,
    "start_time": "2023-10-25T21:22:25.503Z"
   },
   {
    "duration": 79,
    "start_time": "2023-10-25T21:22:25.524Z"
   },
   {
    "duration": 291,
    "start_time": "2023-10-25T21:22:25.609Z"
   },
   {
    "duration": 32,
    "start_time": "2023-10-25T21:22:25.902Z"
   },
   {
    "duration": 39,
    "start_time": "2023-10-25T21:22:25.935Z"
   },
   {
    "duration": 27,
    "start_time": "2023-10-25T21:22:25.976Z"
   },
   {
    "duration": 39,
    "start_time": "2023-10-25T21:22:26.007Z"
   },
   {
    "duration": 63,
    "start_time": "2023-10-25T21:22:26.050Z"
   },
   {
    "duration": 663,
    "start_time": "2023-10-25T21:22:26.115Z"
   },
   {
    "duration": 46,
    "start_time": "2023-10-25T21:22:26.780Z"
   },
   {
    "duration": 34,
    "start_time": "2023-10-25T21:22:26.827Z"
   },
   {
    "duration": 176,
    "start_time": "2023-10-25T21:22:26.863Z"
   },
   {
    "duration": 28,
    "start_time": "2023-10-25T21:22:27.040Z"
   },
   {
    "duration": 74,
    "start_time": "2023-10-25T21:22:27.070Z"
   },
   {
    "duration": 171,
    "start_time": "2023-10-25T21:22:27.146Z"
   },
   {
    "duration": 25,
    "start_time": "2023-10-25T21:22:27.318Z"
   },
   {
    "duration": 15,
    "start_time": "2023-10-25T21:22:27.344Z"
   },
   {
    "duration": 321,
    "start_time": "2023-10-25T21:22:27.360Z"
   },
   {
    "duration": 421,
    "start_time": "2023-10-25T21:22:27.683Z"
   },
   {
    "duration": 0,
    "start_time": "2023-10-25T21:22:28.106Z"
   },
   {
    "duration": 0,
    "start_time": "2023-10-25T21:22:28.108Z"
   },
   {
    "duration": 0,
    "start_time": "2023-10-25T21:22:28.110Z"
   },
   {
    "duration": 0,
    "start_time": "2023-10-25T21:22:28.113Z"
   },
   {
    "duration": 0,
    "start_time": "2023-10-25T21:22:28.114Z"
   },
   {
    "duration": 0,
    "start_time": "2023-10-25T21:22:28.115Z"
   },
   {
    "duration": 0,
    "start_time": "2023-10-25T21:22:28.118Z"
   },
   {
    "duration": 1184,
    "start_time": "2023-10-25T21:23:07.288Z"
   },
   {
    "duration": 189,
    "start_time": "2023-10-25T21:23:08.474Z"
   },
   {
    "duration": 23,
    "start_time": "2023-10-25T21:23:08.665Z"
   },
   {
    "duration": 23,
    "start_time": "2023-10-25T21:23:08.689Z"
   },
   {
    "duration": 10,
    "start_time": "2023-10-25T21:23:08.715Z"
   },
   {
    "duration": 23,
    "start_time": "2023-10-25T21:23:08.727Z"
   },
   {
    "duration": 23,
    "start_time": "2023-10-25T21:23:08.752Z"
   },
   {
    "duration": 97,
    "start_time": "2023-10-25T21:23:08.777Z"
   },
   {
    "duration": 278,
    "start_time": "2023-10-25T21:23:08.876Z"
   },
   {
    "duration": 17,
    "start_time": "2023-10-25T21:23:09.156Z"
   },
   {
    "duration": 46,
    "start_time": "2023-10-25T21:23:09.174Z"
   },
   {
    "duration": 41,
    "start_time": "2023-10-25T21:23:09.223Z"
   },
   {
    "duration": 31,
    "start_time": "2023-10-25T21:23:09.265Z"
   },
   {
    "duration": 53,
    "start_time": "2023-10-25T21:23:09.299Z"
   },
   {
    "duration": 659,
    "start_time": "2023-10-25T21:23:09.354Z"
   },
   {
    "duration": 52,
    "start_time": "2023-10-25T21:23:10.015Z"
   },
   {
    "duration": 57,
    "start_time": "2023-10-25T21:23:10.069Z"
   },
   {
    "duration": 171,
    "start_time": "2023-10-25T21:23:10.128Z"
   },
   {
    "duration": 38,
    "start_time": "2023-10-25T21:23:10.301Z"
   },
   {
    "duration": 86,
    "start_time": "2023-10-25T21:23:10.340Z"
   },
   {
    "duration": 157,
    "start_time": "2023-10-25T21:23:10.428Z"
   },
   {
    "duration": 40,
    "start_time": "2023-10-25T21:23:10.587Z"
   },
   {
    "duration": 13,
    "start_time": "2023-10-25T21:23:10.629Z"
   },
   {
    "duration": 273,
    "start_time": "2023-10-25T21:23:10.644Z"
   },
   {
    "duration": 8627,
    "start_time": "2023-10-25T21:23:10.919Z"
   },
   {
    "duration": 0,
    "start_time": "2023-10-25T21:23:19.548Z"
   },
   {
    "duration": 0,
    "start_time": "2023-10-25T21:23:19.550Z"
   },
   {
    "duration": 0,
    "start_time": "2023-10-25T21:23:19.551Z"
   },
   {
    "duration": 0,
    "start_time": "2023-10-25T21:23:19.552Z"
   },
   {
    "duration": 0,
    "start_time": "2023-10-25T21:23:19.554Z"
   },
   {
    "duration": 0,
    "start_time": "2023-10-25T21:23:19.556Z"
   },
   {
    "duration": 0,
    "start_time": "2023-10-25T21:23:19.557Z"
   },
   {
    "duration": 1712,
    "start_time": "2023-10-25T21:23:44.590Z"
   },
   {
    "duration": 189,
    "start_time": "2023-10-25T21:23:46.304Z"
   },
   {
    "duration": 33,
    "start_time": "2023-10-25T21:23:46.494Z"
   },
   {
    "duration": 22,
    "start_time": "2023-10-25T21:23:46.529Z"
   },
   {
    "duration": 24,
    "start_time": "2023-10-25T21:23:46.554Z"
   },
   {
    "duration": 49,
    "start_time": "2023-10-25T21:23:46.579Z"
   },
   {
    "duration": 28,
    "start_time": "2023-10-25T21:23:46.630Z"
   },
   {
    "duration": 83,
    "start_time": "2023-10-25T21:23:46.660Z"
   },
   {
    "duration": 291,
    "start_time": "2023-10-25T21:23:46.745Z"
   },
   {
    "duration": 17,
    "start_time": "2023-10-25T21:23:47.038Z"
   },
   {
    "duration": 48,
    "start_time": "2023-10-25T21:23:47.056Z"
   },
   {
    "duration": 13,
    "start_time": "2023-10-25T21:23:47.107Z"
   },
   {
    "duration": 21,
    "start_time": "2023-10-25T21:23:47.122Z"
   },
   {
    "duration": 51,
    "start_time": "2023-10-25T21:23:47.146Z"
   },
   {
    "duration": 675,
    "start_time": "2023-10-25T21:23:47.199Z"
   },
   {
    "duration": 39,
    "start_time": "2023-10-25T21:23:47.876Z"
   },
   {
    "duration": 39,
    "start_time": "2023-10-25T21:23:47.917Z"
   },
   {
    "duration": 181,
    "start_time": "2023-10-25T21:23:47.957Z"
   },
   {
    "duration": 27,
    "start_time": "2023-10-25T21:23:48.139Z"
   },
   {
    "duration": 76,
    "start_time": "2023-10-25T21:23:48.167Z"
   },
   {
    "duration": 147,
    "start_time": "2023-10-25T21:23:48.245Z"
   },
   {
    "duration": 30,
    "start_time": "2023-10-25T21:23:48.394Z"
   },
   {
    "duration": 13,
    "start_time": "2023-10-25T21:23:48.426Z"
   },
   {
    "duration": 292,
    "start_time": "2023-10-25T21:23:48.441Z"
   },
   {
    "duration": 128,
    "start_time": "2023-10-25T21:23:48.735Z"
   },
   {
    "duration": 7,
    "start_time": "2023-10-25T21:23:48.864Z"
   },
   {
    "duration": 71,
    "start_time": "2023-10-25T21:23:48.872Z"
   },
   {
    "duration": 3053,
    "start_time": "2023-10-25T21:23:48.944Z"
   },
   {
    "duration": 0,
    "start_time": "2023-10-25T21:23:51.999Z"
   },
   {
    "duration": 0,
    "start_time": "2023-10-25T21:23:52.001Z"
   },
   {
    "duration": 0,
    "start_time": "2023-10-25T21:23:52.002Z"
   },
   {
    "duration": 0,
    "start_time": "2023-10-25T21:23:52.003Z"
   },
   {
    "duration": 1140,
    "start_time": "2023-10-25T21:24:40.014Z"
   },
   {
    "duration": 187,
    "start_time": "2023-10-25T21:24:41.156Z"
   },
   {
    "duration": 22,
    "start_time": "2023-10-25T21:24:41.344Z"
   },
   {
    "duration": 11,
    "start_time": "2023-10-25T21:24:41.368Z"
   },
   {
    "duration": 11,
    "start_time": "2023-10-25T21:24:41.381Z"
   },
   {
    "duration": 23,
    "start_time": "2023-10-25T21:24:41.408Z"
   },
   {
    "duration": 21,
    "start_time": "2023-10-25T21:24:41.433Z"
   },
   {
    "duration": 92,
    "start_time": "2023-10-25T21:24:41.456Z"
   },
   {
    "duration": 276,
    "start_time": "2023-10-25T21:24:41.549Z"
   },
   {
    "duration": 17,
    "start_time": "2023-10-25T21:24:41.827Z"
   },
   {
    "duration": 28,
    "start_time": "2023-10-25T21:24:41.846Z"
   },
   {
    "duration": 6,
    "start_time": "2023-10-25T21:24:41.876Z"
   },
   {
    "duration": 42,
    "start_time": "2023-10-25T21:24:41.884Z"
   },
   {
    "duration": 37,
    "start_time": "2023-10-25T21:24:41.929Z"
   },
   {
    "duration": 630,
    "start_time": "2023-10-25T21:24:41.967Z"
   },
   {
    "duration": 44,
    "start_time": "2023-10-25T21:24:42.598Z"
   },
   {
    "duration": 34,
    "start_time": "2023-10-25T21:24:42.644Z"
   },
   {
    "duration": 164,
    "start_time": "2023-10-25T21:24:42.679Z"
   },
   {
    "duration": 27,
    "start_time": "2023-10-25T21:24:42.845Z"
   },
   {
    "duration": 81,
    "start_time": "2023-10-25T21:24:42.874Z"
   },
   {
    "duration": 153,
    "start_time": "2023-10-25T21:24:42.957Z"
   },
   {
    "duration": 27,
    "start_time": "2023-10-25T21:24:43.113Z"
   },
   {
    "duration": 15,
    "start_time": "2023-10-25T21:24:43.141Z"
   },
   {
    "duration": 294,
    "start_time": "2023-10-25T21:24:43.158Z"
   },
   {
    "duration": 125,
    "start_time": "2023-10-25T21:24:43.454Z"
   },
   {
    "duration": 7,
    "start_time": "2023-10-25T21:24:43.580Z"
   },
   {
    "duration": 53,
    "start_time": "2023-10-25T21:24:43.588Z"
   },
   {
    "duration": 91,
    "start_time": "2023-10-25T21:24:43.643Z"
   },
   {
    "duration": 312,
    "start_time": "2023-10-25T21:24:43.736Z"
   },
   {
    "duration": 31,
    "start_time": "2023-10-25T21:24:44.050Z"
   },
   {
    "duration": 62,
    "start_time": "2023-10-25T21:24:44.083Z"
   },
   {
    "duration": 413,
    "start_time": "2023-10-25T21:24:44.147Z"
   },
   {
    "duration": 1176,
    "start_time": "2023-10-25T21:26:14.668Z"
   },
   {
    "duration": 223,
    "start_time": "2023-10-25T21:26:15.846Z"
   },
   {
    "duration": 26,
    "start_time": "2023-10-25T21:26:16.071Z"
   },
   {
    "duration": 18,
    "start_time": "2023-10-25T21:26:16.108Z"
   },
   {
    "duration": 10,
    "start_time": "2023-10-25T21:26:16.129Z"
   },
   {
    "duration": 39,
    "start_time": "2023-10-25T21:26:16.141Z"
   },
   {
    "duration": 35,
    "start_time": "2023-10-25T21:26:16.181Z"
   },
   {
    "duration": 105,
    "start_time": "2023-10-25T21:26:16.218Z"
   },
   {
    "duration": 298,
    "start_time": "2023-10-25T21:26:16.325Z"
   },
   {
    "duration": 19,
    "start_time": "2023-10-25T21:26:16.625Z"
   },
   {
    "duration": 39,
    "start_time": "2023-10-25T21:26:16.646Z"
   },
   {
    "duration": 7,
    "start_time": "2023-10-25T21:26:16.686Z"
   },
   {
    "duration": 16,
    "start_time": "2023-10-25T21:26:16.695Z"
   },
   {
    "duration": 46,
    "start_time": "2023-10-25T21:26:16.715Z"
   },
   {
    "duration": 739,
    "start_time": "2023-10-25T21:26:16.762Z"
   },
   {
    "duration": 44,
    "start_time": "2023-10-25T21:26:17.502Z"
   },
   {
    "duration": 35,
    "start_time": "2023-10-25T21:26:17.547Z"
   },
   {
    "duration": 186,
    "start_time": "2023-10-25T21:26:17.583Z"
   },
   {
    "duration": 37,
    "start_time": "2023-10-25T21:26:17.770Z"
   },
   {
    "duration": 66,
    "start_time": "2023-10-25T21:26:17.809Z"
   },
   {
    "duration": 211,
    "start_time": "2023-10-25T21:26:17.877Z"
   },
   {
    "duration": 35,
    "start_time": "2023-10-25T21:26:18.090Z"
   },
   {
    "duration": 22,
    "start_time": "2023-10-25T21:26:18.128Z"
   },
   {
    "duration": 348,
    "start_time": "2023-10-25T21:26:18.152Z"
   },
   {
    "duration": 141,
    "start_time": "2023-10-25T21:26:18.502Z"
   },
   {
    "duration": 8,
    "start_time": "2023-10-25T21:26:18.644Z"
   },
   {
    "duration": 70,
    "start_time": "2023-10-25T21:26:18.653Z"
   },
   {
    "duration": 96,
    "start_time": "2023-10-25T21:26:18.726Z"
   },
   {
    "duration": 309,
    "start_time": "2023-10-25T21:26:18.824Z"
   },
   {
    "duration": 33,
    "start_time": "2023-10-25T21:26:19.134Z"
   },
   {
    "duration": 76,
    "start_time": "2023-10-25T21:26:19.169Z"
   },
   {
    "duration": 404,
    "start_time": "2023-10-25T21:26:19.246Z"
   },
   {
    "duration": 1226,
    "start_time": "2023-10-25T21:32:46.929Z"
   },
   {
    "duration": 194,
    "start_time": "2023-10-25T21:32:48.157Z"
   },
   {
    "duration": 30,
    "start_time": "2023-10-25T21:32:48.353Z"
   },
   {
    "duration": 24,
    "start_time": "2023-10-25T21:32:48.385Z"
   },
   {
    "duration": 12,
    "start_time": "2023-10-25T21:32:48.411Z"
   },
   {
    "duration": 18,
    "start_time": "2023-10-25T21:32:48.425Z"
   },
   {
    "duration": 16,
    "start_time": "2023-10-25T21:32:48.444Z"
   },
   {
    "duration": 114,
    "start_time": "2023-10-25T21:32:48.461Z"
   },
   {
    "duration": 301,
    "start_time": "2023-10-25T21:32:48.577Z"
   },
   {
    "duration": 29,
    "start_time": "2023-10-25T21:32:48.881Z"
   },
   {
    "duration": 37,
    "start_time": "2023-10-25T21:32:48.913Z"
   },
   {
    "duration": 7,
    "start_time": "2023-10-25T21:32:48.951Z"
   },
   {
    "duration": 3,
    "start_time": "2023-10-25T21:32:48.959Z"
   },
   {
    "duration": 65,
    "start_time": "2023-10-25T21:32:48.963Z"
   },
   {
    "duration": 680,
    "start_time": "2023-10-25T21:32:49.030Z"
   },
   {
    "duration": 56,
    "start_time": "2023-10-25T21:32:49.713Z"
   },
   {
    "duration": 66,
    "start_time": "2023-10-25T21:32:49.771Z"
   },
   {
    "duration": 35,
    "start_time": "2023-10-25T21:32:49.840Z"
   },
   {
    "duration": 179,
    "start_time": "2023-10-25T21:32:49.876Z"
   },
   {
    "duration": 31,
    "start_time": "2023-10-25T21:32:50.057Z"
   },
   {
    "duration": 84,
    "start_time": "2023-10-25T21:32:50.090Z"
   },
   {
    "duration": 171,
    "start_time": "2023-10-25T21:32:50.176Z"
   },
   {
    "duration": 23,
    "start_time": "2023-10-25T21:32:50.349Z"
   },
   {
    "duration": 14,
    "start_time": "2023-10-25T21:32:50.374Z"
   },
   {
    "duration": 282,
    "start_time": "2023-10-25T21:32:50.410Z"
   },
   {
    "duration": 135,
    "start_time": "2023-10-25T21:32:50.693Z"
   },
   {
    "duration": 7,
    "start_time": "2023-10-25T21:32:50.830Z"
   },
   {
    "duration": 45,
    "start_time": "2023-10-25T21:32:50.839Z"
   },
   {
    "duration": 104,
    "start_time": "2023-10-25T21:32:50.885Z"
   },
   {
    "duration": 337,
    "start_time": "2023-10-25T21:32:50.991Z"
   },
   {
    "duration": 35,
    "start_time": "2023-10-25T21:32:51.330Z"
   },
   {
    "duration": 70,
    "start_time": "2023-10-25T21:32:51.367Z"
   },
   {
    "duration": 444,
    "start_time": "2023-10-25T21:32:51.438Z"
   },
   {
    "duration": 1265,
    "start_time": "2023-10-25T21:33:40.781Z"
   },
   {
    "duration": 192,
    "start_time": "2023-10-25T21:33:42.049Z"
   },
   {
    "duration": 22,
    "start_time": "2023-10-25T21:33:42.243Z"
   },
   {
    "duration": 10,
    "start_time": "2023-10-25T21:33:42.267Z"
   },
   {
    "duration": 12,
    "start_time": "2023-10-25T21:33:42.278Z"
   },
   {
    "duration": 40,
    "start_time": "2023-10-25T21:33:42.291Z"
   },
   {
    "duration": 15,
    "start_time": "2023-10-25T21:33:42.333Z"
   },
   {
    "duration": 109,
    "start_time": "2023-10-25T21:33:42.350Z"
   },
   {
    "duration": 289,
    "start_time": "2023-10-25T21:33:42.461Z"
   },
   {
    "duration": 18,
    "start_time": "2023-10-25T21:33:42.753Z"
   },
   {
    "duration": 54,
    "start_time": "2023-10-25T21:33:42.773Z"
   },
   {
    "duration": 14,
    "start_time": "2023-10-25T21:33:42.829Z"
   },
   {
    "duration": 17,
    "start_time": "2023-10-25T21:33:42.844Z"
   },
   {
    "duration": 39,
    "start_time": "2023-10-25T21:33:42.863Z"
   },
   {
    "duration": 671,
    "start_time": "2023-10-25T21:33:42.903Z"
   },
   {
    "duration": 62,
    "start_time": "2023-10-25T21:33:43.576Z"
   },
   {
    "duration": 18,
    "start_time": "2023-10-25T21:33:43.640Z"
   },
   {
    "duration": 48,
    "start_time": "2023-10-25T21:33:43.660Z"
   },
   {
    "duration": 177,
    "start_time": "2023-10-25T21:33:43.710Z"
   },
   {
    "duration": 44,
    "start_time": "2023-10-25T21:33:43.889Z"
   },
   {
    "duration": 58,
    "start_time": "2023-10-25T21:33:43.935Z"
   },
   {
    "duration": 171,
    "start_time": "2023-10-25T21:33:43.995Z"
   },
   {
    "duration": 21,
    "start_time": "2023-10-25T21:33:44.168Z"
   },
   {
    "duration": 48,
    "start_time": "2023-10-25T21:33:44.191Z"
   },
   {
    "duration": 311,
    "start_time": "2023-10-25T21:33:44.241Z"
   },
   {
    "duration": 132,
    "start_time": "2023-10-25T21:33:44.554Z"
   },
   {
    "duration": 7,
    "start_time": "2023-10-25T21:33:44.688Z"
   },
   {
    "duration": 45,
    "start_time": "2023-10-25T21:33:44.706Z"
   },
   {
    "duration": 99,
    "start_time": "2023-10-25T21:33:44.753Z"
   },
   {
    "duration": 333,
    "start_time": "2023-10-25T21:33:44.854Z"
   },
   {
    "duration": 45,
    "start_time": "2023-10-25T21:33:45.189Z"
   },
   {
    "duration": 44,
    "start_time": "2023-10-25T21:33:45.236Z"
   },
   {
    "duration": 420,
    "start_time": "2023-10-25T21:33:45.282Z"
   },
   {
    "duration": 1229,
    "start_time": "2023-10-25T21:35:15.428Z"
   },
   {
    "duration": 193,
    "start_time": "2023-10-25T21:35:16.659Z"
   },
   {
    "duration": 22,
    "start_time": "2023-10-25T21:35:16.854Z"
   },
   {
    "duration": 68,
    "start_time": "2023-10-25T21:35:16.878Z"
   },
   {
    "duration": 7,
    "start_time": "2023-10-25T21:35:16.949Z"
   },
   {
    "duration": 22,
    "start_time": "2023-10-25T21:35:16.957Z"
   },
   {
    "duration": 21,
    "start_time": "2023-10-25T21:35:16.981Z"
   },
   {
    "duration": 85,
    "start_time": "2023-10-25T21:35:17.003Z"
   },
   {
    "duration": 307,
    "start_time": "2023-10-25T21:35:17.090Z"
   },
   {
    "duration": 24,
    "start_time": "2023-10-25T21:35:17.399Z"
   },
   {
    "duration": 35,
    "start_time": "2023-10-25T21:35:17.424Z"
   },
   {
    "duration": 8,
    "start_time": "2023-10-25T21:35:17.460Z"
   },
   {
    "duration": 16,
    "start_time": "2023-10-25T21:35:17.470Z"
   },
   {
    "duration": 33,
    "start_time": "2023-10-25T21:35:17.507Z"
   },
   {
    "duration": 670,
    "start_time": "2023-10-25T21:35:17.542Z"
   },
   {
    "duration": 24,
    "start_time": "2023-10-25T21:35:18.214Z"
   },
   {
    "duration": 65,
    "start_time": "2023-10-25T21:35:18.240Z"
   },
   {
    "duration": 39,
    "start_time": "2023-10-25T21:35:18.309Z"
   },
   {
    "duration": 180,
    "start_time": "2023-10-25T21:35:18.350Z"
   },
   {
    "duration": 30,
    "start_time": "2023-10-25T21:35:18.532Z"
   },
   {
    "duration": 85,
    "start_time": "2023-10-25T21:35:18.564Z"
   },
   {
    "duration": 176,
    "start_time": "2023-10-25T21:35:18.651Z"
   },
   {
    "duration": 23,
    "start_time": "2023-10-25T21:35:18.830Z"
   },
   {
    "duration": 67,
    "start_time": "2023-10-25T21:35:18.855Z"
   },
   {
    "duration": 278,
    "start_time": "2023-10-25T21:35:18.925Z"
   },
   {
    "duration": 134,
    "start_time": "2023-10-25T21:35:19.207Z"
   },
   {
    "duration": 7,
    "start_time": "2023-10-25T21:35:19.343Z"
   },
   {
    "duration": 80,
    "start_time": "2023-10-25T21:35:19.351Z"
   },
   {
    "duration": 101,
    "start_time": "2023-10-25T21:35:19.433Z"
   },
   {
    "duration": 345,
    "start_time": "2023-10-25T21:35:19.535Z"
   },
   {
    "duration": 45,
    "start_time": "2023-10-25T21:35:19.881Z"
   },
   {
    "duration": 42,
    "start_time": "2023-10-25T21:35:19.928Z"
   },
   {
    "duration": 448,
    "start_time": "2023-10-25T21:35:19.972Z"
   },
   {
    "duration": 1268,
    "start_time": "2023-10-25T21:36:09.024Z"
   },
   {
    "duration": 183,
    "start_time": "2023-10-25T21:36:10.293Z"
   },
   {
    "duration": 22,
    "start_time": "2023-10-25T21:36:10.477Z"
   },
   {
    "duration": 19,
    "start_time": "2023-10-25T21:36:10.506Z"
   },
   {
    "duration": 26,
    "start_time": "2023-10-25T21:36:10.527Z"
   },
   {
    "duration": 34,
    "start_time": "2023-10-25T21:36:10.555Z"
   },
   {
    "duration": 38,
    "start_time": "2023-10-25T21:36:10.591Z"
   },
   {
    "duration": 92,
    "start_time": "2023-10-25T21:36:10.630Z"
   },
   {
    "duration": 265,
    "start_time": "2023-10-25T21:36:10.724Z"
   },
   {
    "duration": 24,
    "start_time": "2023-10-25T21:36:10.991Z"
   },
   {
    "duration": 30,
    "start_time": "2023-10-25T21:36:11.017Z"
   },
   {
    "duration": 6,
    "start_time": "2023-10-25T21:36:11.049Z"
   },
   {
    "duration": 4,
    "start_time": "2023-10-25T21:36:11.057Z"
   },
   {
    "duration": 62,
    "start_time": "2023-10-25T21:36:11.064Z"
   },
   {
    "duration": 634,
    "start_time": "2023-10-25T21:36:11.128Z"
   },
   {
    "duration": 22,
    "start_time": "2023-10-25T21:36:11.764Z"
   },
   {
    "duration": 53,
    "start_time": "2023-10-25T21:36:11.788Z"
   },
   {
    "duration": 33,
    "start_time": "2023-10-25T21:36:11.842Z"
   },
   {
    "duration": 181,
    "start_time": "2023-10-25T21:36:11.877Z"
   },
   {
    "duration": 29,
    "start_time": "2023-10-25T21:36:12.059Z"
   },
   {
    "duration": 76,
    "start_time": "2023-10-25T21:36:12.089Z"
   },
   {
    "duration": 169,
    "start_time": "2023-10-25T21:36:12.167Z"
   },
   {
    "duration": 22,
    "start_time": "2023-10-25T21:36:12.338Z"
   },
   {
    "duration": 13,
    "start_time": "2023-10-25T21:36:12.362Z"
   },
   {
    "duration": 315,
    "start_time": "2023-10-25T21:36:12.377Z"
   },
   {
    "duration": 107,
    "start_time": "2023-10-25T21:36:12.694Z"
   },
   {
    "duration": 12,
    "start_time": "2023-10-25T21:36:12.803Z"
   },
   {
    "duration": 50,
    "start_time": "2023-10-25T21:36:12.817Z"
   },
   {
    "duration": 80,
    "start_time": "2023-10-25T21:36:12.869Z"
   },
   {
    "duration": 360,
    "start_time": "2023-10-25T21:36:12.951Z"
   },
   {
    "duration": 34,
    "start_time": "2023-10-25T21:36:13.314Z"
   },
   {
    "duration": 111,
    "start_time": "2023-10-25T21:36:13.350Z"
   },
   {
    "duration": 537,
    "start_time": "2023-10-25T21:36:13.463Z"
   },
   {
    "duration": 1170,
    "start_time": "2023-10-25T21:36:36.900Z"
   },
   {
    "duration": 180,
    "start_time": "2023-10-25T21:36:38.072Z"
   },
   {
    "duration": 22,
    "start_time": "2023-10-25T21:36:38.254Z"
   },
   {
    "duration": 9,
    "start_time": "2023-10-25T21:36:38.278Z"
   },
   {
    "duration": 24,
    "start_time": "2023-10-25T21:36:38.290Z"
   },
   {
    "duration": 26,
    "start_time": "2023-10-25T21:36:38.317Z"
   },
   {
    "duration": 21,
    "start_time": "2023-10-25T21:36:38.344Z"
   },
   {
    "duration": 94,
    "start_time": "2023-10-25T21:36:38.366Z"
   },
   {
    "duration": 273,
    "start_time": "2023-10-25T21:36:38.461Z"
   },
   {
    "duration": 18,
    "start_time": "2023-10-25T21:36:38.736Z"
   },
   {
    "duration": 31,
    "start_time": "2023-10-25T21:36:38.755Z"
   },
   {
    "duration": 23,
    "start_time": "2023-10-25T21:36:38.788Z"
   },
   {
    "duration": 15,
    "start_time": "2023-10-25T21:36:38.813Z"
   },
   {
    "duration": 47,
    "start_time": "2023-10-25T21:36:38.831Z"
   },
   {
    "duration": 658,
    "start_time": "2023-10-25T21:36:38.880Z"
   },
   {
    "duration": 117,
    "start_time": "2023-10-25T21:36:39.539Z"
   },
   {
    "duration": 0,
    "start_time": "2023-10-25T21:36:39.657Z"
   },
   {
    "duration": 0,
    "start_time": "2023-10-25T21:36:39.658Z"
   },
   {
    "duration": 0,
    "start_time": "2023-10-25T21:36:39.659Z"
   },
   {
    "duration": 0,
    "start_time": "2023-10-25T21:36:39.660Z"
   },
   {
    "duration": 0,
    "start_time": "2023-10-25T21:36:39.661Z"
   },
   {
    "duration": 0,
    "start_time": "2023-10-25T21:36:39.662Z"
   },
   {
    "duration": 0,
    "start_time": "2023-10-25T21:36:39.663Z"
   },
   {
    "duration": 0,
    "start_time": "2023-10-25T21:36:39.663Z"
   },
   {
    "duration": 0,
    "start_time": "2023-10-25T21:36:39.665Z"
   },
   {
    "duration": 0,
    "start_time": "2023-10-25T21:36:39.665Z"
   },
   {
    "duration": 0,
    "start_time": "2023-10-25T21:36:39.666Z"
   },
   {
    "duration": 0,
    "start_time": "2023-10-25T21:36:39.667Z"
   },
   {
    "duration": 0,
    "start_time": "2023-10-25T21:36:39.668Z"
   },
   {
    "duration": 0,
    "start_time": "2023-10-25T21:36:39.669Z"
   },
   {
    "duration": 0,
    "start_time": "2023-10-25T21:36:39.670Z"
   },
   {
    "duration": 0,
    "start_time": "2023-10-25T21:36:39.671Z"
   },
   {
    "duration": 0,
    "start_time": "2023-10-25T21:36:39.672Z"
   },
   {
    "duration": 1267,
    "start_time": "2023-10-25T21:37:05.086Z"
   },
   {
    "duration": 193,
    "start_time": "2023-10-25T21:37:06.355Z"
   },
   {
    "duration": 25,
    "start_time": "2023-10-25T21:37:06.549Z"
   },
   {
    "duration": 15,
    "start_time": "2023-10-25T21:37:06.576Z"
   },
   {
    "duration": 20,
    "start_time": "2023-10-25T21:37:06.594Z"
   },
   {
    "duration": 20,
    "start_time": "2023-10-25T21:37:06.615Z"
   },
   {
    "duration": 19,
    "start_time": "2023-10-25T21:37:06.636Z"
   },
   {
    "duration": 106,
    "start_time": "2023-10-25T21:37:06.657Z"
   },
   {
    "duration": 292,
    "start_time": "2023-10-25T21:37:06.765Z"
   },
   {
    "duration": 20,
    "start_time": "2023-10-25T21:37:07.059Z"
   },
   {
    "duration": 53,
    "start_time": "2023-10-25T21:37:07.081Z"
   },
   {
    "duration": 6,
    "start_time": "2023-10-25T21:37:07.136Z"
   },
   {
    "duration": 12,
    "start_time": "2023-10-25T21:37:07.144Z"
   },
   {
    "duration": 39,
    "start_time": "2023-10-25T21:37:07.158Z"
   },
   {
    "duration": 724,
    "start_time": "2023-10-25T21:37:07.198Z"
   },
   {
    "duration": 22,
    "start_time": "2023-10-25T21:37:07.925Z"
   },
   {
    "duration": 32,
    "start_time": "2023-10-25T21:37:07.948Z"
   },
   {
    "duration": 58,
    "start_time": "2023-10-25T21:37:07.982Z"
   },
   {
    "duration": 164,
    "start_time": "2023-10-25T21:37:08.042Z"
   },
   {
    "duration": 35,
    "start_time": "2023-10-25T21:37:08.208Z"
   },
   {
    "duration": 78,
    "start_time": "2023-10-25T21:37:08.244Z"
   },
   {
    "duration": 152,
    "start_time": "2023-10-25T21:37:08.323Z"
   },
   {
    "duration": 30,
    "start_time": "2023-10-25T21:37:08.477Z"
   },
   {
    "duration": 18,
    "start_time": "2023-10-25T21:37:08.510Z"
   },
   {
    "duration": 288,
    "start_time": "2023-10-25T21:37:08.530Z"
   },
   {
    "duration": 125,
    "start_time": "2023-10-25T21:37:08.820Z"
   },
   {
    "duration": 8,
    "start_time": "2023-10-25T21:37:08.947Z"
   },
   {
    "duration": 64,
    "start_time": "2023-10-25T21:37:08.956Z"
   },
   {
    "duration": 87,
    "start_time": "2023-10-25T21:37:09.022Z"
   },
   {
    "duration": 309,
    "start_time": "2023-10-25T21:37:09.112Z"
   },
   {
    "duration": 33,
    "start_time": "2023-10-25T21:37:09.424Z"
   },
   {
    "duration": 50,
    "start_time": "2023-10-25T21:37:09.459Z"
   },
   {
    "duration": 393,
    "start_time": "2023-10-25T21:37:09.510Z"
   },
   {
    "duration": 1210,
    "start_time": "2023-10-25T21:40:50.614Z"
   },
   {
    "duration": 194,
    "start_time": "2023-10-25T21:40:51.826Z"
   },
   {
    "duration": 24,
    "start_time": "2023-10-25T21:40:52.022Z"
   },
   {
    "duration": 46,
    "start_time": "2023-10-25T21:40:52.048Z"
   },
   {
    "duration": 29,
    "start_time": "2023-10-25T21:40:52.097Z"
   },
   {
    "duration": 35,
    "start_time": "2023-10-25T21:40:52.127Z"
   },
   {
    "duration": 39,
    "start_time": "2023-10-25T21:40:52.164Z"
   },
   {
    "duration": 96,
    "start_time": "2023-10-25T21:40:52.206Z"
   },
   {
    "duration": 303,
    "start_time": "2023-10-25T21:40:52.303Z"
   },
   {
    "duration": 28,
    "start_time": "2023-10-25T21:40:52.609Z"
   },
   {
    "duration": 78,
    "start_time": "2023-10-25T21:40:52.638Z"
   },
   {
    "duration": 9,
    "start_time": "2023-10-25T21:40:52.718Z"
   },
   {
    "duration": 41,
    "start_time": "2023-10-25T21:40:52.731Z"
   },
   {
    "duration": 53,
    "start_time": "2023-10-25T21:40:52.775Z"
   },
   {
    "duration": 702,
    "start_time": "2023-10-25T21:40:52.830Z"
   },
   {
    "duration": 392,
    "start_time": "2023-10-25T21:40:53.533Z"
   },
   {
    "duration": 0,
    "start_time": "2023-10-25T21:40:53.927Z"
   },
   {
    "duration": 0,
    "start_time": "2023-10-25T21:40:53.928Z"
   },
   {
    "duration": 0,
    "start_time": "2023-10-25T21:40:53.929Z"
   },
   {
    "duration": 0,
    "start_time": "2023-10-25T21:40:53.930Z"
   },
   {
    "duration": 0,
    "start_time": "2023-10-25T21:40:53.932Z"
   },
   {
    "duration": 0,
    "start_time": "2023-10-25T21:40:53.934Z"
   },
   {
    "duration": 0,
    "start_time": "2023-10-25T21:40:53.936Z"
   },
   {
    "duration": 0,
    "start_time": "2023-10-25T21:40:53.937Z"
   },
   {
    "duration": 0,
    "start_time": "2023-10-25T21:40:53.938Z"
   },
   {
    "duration": 0,
    "start_time": "2023-10-25T21:40:53.940Z"
   },
   {
    "duration": 0,
    "start_time": "2023-10-25T21:40:53.941Z"
   },
   {
    "duration": 0,
    "start_time": "2023-10-25T21:40:53.943Z"
   },
   {
    "duration": 0,
    "start_time": "2023-10-25T21:40:53.943Z"
   },
   {
    "duration": 0,
    "start_time": "2023-10-25T21:40:53.944Z"
   },
   {
    "duration": 0,
    "start_time": "2023-10-25T21:40:53.946Z"
   },
   {
    "duration": 0,
    "start_time": "2023-10-25T21:40:53.947Z"
   },
   {
    "duration": 0,
    "start_time": "2023-10-25T21:40:53.948Z"
   },
   {
    "duration": 1209,
    "start_time": "2023-10-25T21:41:52.247Z"
   },
   {
    "duration": 192,
    "start_time": "2023-10-25T21:41:53.458Z"
   },
   {
    "duration": 21,
    "start_time": "2023-10-25T21:41:53.652Z"
   },
   {
    "duration": 40,
    "start_time": "2023-10-25T21:41:53.675Z"
   },
   {
    "duration": 18,
    "start_time": "2023-10-25T21:41:53.720Z"
   },
   {
    "duration": 19,
    "start_time": "2023-10-25T21:41:53.739Z"
   },
   {
    "duration": 15,
    "start_time": "2023-10-25T21:41:53.759Z"
   },
   {
    "duration": 102,
    "start_time": "2023-10-25T21:41:53.776Z"
   },
   {
    "duration": 284,
    "start_time": "2023-10-25T21:41:53.879Z"
   },
   {
    "duration": 18,
    "start_time": "2023-10-25T21:41:54.164Z"
   },
   {
    "duration": 71,
    "start_time": "2023-10-25T21:41:54.183Z"
   },
   {
    "duration": 19,
    "start_time": "2023-10-25T21:41:54.256Z"
   },
   {
    "duration": 20,
    "start_time": "2023-10-25T21:41:54.276Z"
   },
   {
    "duration": 53,
    "start_time": "2023-10-25T21:41:54.299Z"
   },
   {
    "duration": 649,
    "start_time": "2023-10-25T21:41:54.353Z"
   },
   {
    "duration": 43,
    "start_time": "2023-10-25T21:41:55.006Z"
   },
   {
    "duration": 42,
    "start_time": "2023-10-25T21:41:55.051Z"
   },
   {
    "duration": 47,
    "start_time": "2023-10-25T21:41:55.095Z"
   },
   {
    "duration": 173,
    "start_time": "2023-10-25T21:41:55.144Z"
   },
   {
    "duration": 30,
    "start_time": "2023-10-25T21:41:55.319Z"
   },
   {
    "duration": 83,
    "start_time": "2023-10-25T21:41:55.351Z"
   },
   {
    "duration": 158,
    "start_time": "2023-10-25T21:41:55.435Z"
   },
   {
    "duration": 40,
    "start_time": "2023-10-25T21:41:55.594Z"
   },
   {
    "duration": 15,
    "start_time": "2023-10-25T21:41:55.635Z"
   },
   {
    "duration": 315,
    "start_time": "2023-10-25T21:41:55.651Z"
   },
   {
    "duration": 165,
    "start_time": "2023-10-25T21:41:55.968Z"
   },
   {
    "duration": 7,
    "start_time": "2023-10-25T21:41:56.135Z"
   },
   {
    "duration": 57,
    "start_time": "2023-10-25T21:41:56.144Z"
   },
   {
    "duration": 83,
    "start_time": "2023-10-25T21:41:56.202Z"
   },
   {
    "duration": 315,
    "start_time": "2023-10-25T21:41:56.287Z"
   },
   {
    "duration": 36,
    "start_time": "2023-10-25T21:41:56.606Z"
   },
   {
    "duration": 52,
    "start_time": "2023-10-25T21:41:56.644Z"
   },
   {
    "duration": 399,
    "start_time": "2023-10-25T21:41:56.708Z"
   },
   {
    "duration": 1229,
    "start_time": "2023-10-25T21:43:24.547Z"
   },
   {
    "duration": 203,
    "start_time": "2023-10-25T21:43:25.778Z"
   },
   {
    "duration": 34,
    "start_time": "2023-10-25T21:43:25.984Z"
   },
   {
    "duration": 30,
    "start_time": "2023-10-25T21:43:26.021Z"
   },
   {
    "duration": 26,
    "start_time": "2023-10-25T21:43:26.054Z"
   },
   {
    "duration": 38,
    "start_time": "2023-10-25T21:43:26.083Z"
   },
   {
    "duration": 18,
    "start_time": "2023-10-25T21:43:26.127Z"
   },
   {
    "duration": 102,
    "start_time": "2023-10-25T21:43:26.147Z"
   },
   {
    "duration": 281,
    "start_time": "2023-10-25T21:43:26.251Z"
   },
   {
    "duration": 19,
    "start_time": "2023-10-25T21:43:26.533Z"
   },
   {
    "duration": 28,
    "start_time": "2023-10-25T21:43:26.554Z"
   },
   {
    "duration": 38,
    "start_time": "2023-10-25T21:43:26.583Z"
   },
   {
    "duration": 3,
    "start_time": "2023-10-25T21:43:26.623Z"
   },
   {
    "duration": 37,
    "start_time": "2023-10-25T21:43:26.629Z"
   },
   {
    "duration": 677,
    "start_time": "2023-10-25T21:43:26.667Z"
   },
   {
    "duration": 36,
    "start_time": "2023-10-25T21:43:27.346Z"
   },
   {
    "duration": 61,
    "start_time": "2023-10-25T21:43:27.384Z"
   },
   {
    "duration": 34,
    "start_time": "2023-10-25T21:43:27.447Z"
   },
   {
    "duration": 170,
    "start_time": "2023-10-25T21:43:27.483Z"
   },
   {
    "duration": 28,
    "start_time": "2023-10-25T21:43:27.656Z"
   },
   {
    "duration": 80,
    "start_time": "2023-10-25T21:43:27.686Z"
   },
   {
    "duration": 169,
    "start_time": "2023-10-25T21:43:27.767Z"
   },
   {
    "duration": 22,
    "start_time": "2023-10-25T21:43:27.937Z"
   },
   {
    "duration": 14,
    "start_time": "2023-10-25T21:43:27.960Z"
   },
   {
    "duration": 281,
    "start_time": "2023-10-25T21:43:27.975Z"
   },
   {
    "duration": 130,
    "start_time": "2023-10-25T21:43:28.258Z"
   },
   {
    "duration": 6,
    "start_time": "2023-10-25T21:43:28.390Z"
   },
   {
    "duration": 42,
    "start_time": "2023-10-25T21:43:28.408Z"
   },
   {
    "duration": 94,
    "start_time": "2023-10-25T21:43:28.452Z"
   },
   {
    "duration": 340,
    "start_time": "2023-10-25T21:43:28.548Z"
   },
   {
    "duration": 49,
    "start_time": "2023-10-25T21:43:28.890Z"
   },
   {
    "duration": 43,
    "start_time": "2023-10-25T21:43:28.941Z"
   },
   {
    "duration": 410,
    "start_time": "2023-10-25T21:43:28.985Z"
   },
   {
    "duration": 1230,
    "start_time": "2023-10-25T21:44:35.129Z"
   },
   {
    "duration": 188,
    "start_time": "2023-10-25T21:44:36.361Z"
   },
   {
    "duration": 22,
    "start_time": "2023-10-25T21:44:36.550Z"
   },
   {
    "duration": 16,
    "start_time": "2023-10-25T21:44:36.573Z"
   },
   {
    "duration": 32,
    "start_time": "2023-10-25T21:44:36.591Z"
   },
   {
    "duration": 44,
    "start_time": "2023-10-25T21:44:36.625Z"
   },
   {
    "duration": 55,
    "start_time": "2023-10-25T21:44:36.670Z"
   },
   {
    "duration": 96,
    "start_time": "2023-10-25T21:44:36.726Z"
   },
   {
    "duration": 275,
    "start_time": "2023-10-25T21:44:36.824Z"
   },
   {
    "duration": 29,
    "start_time": "2023-10-25T21:44:37.102Z"
   },
   {
    "duration": 62,
    "start_time": "2023-10-25T21:44:37.133Z"
   },
   {
    "duration": 8,
    "start_time": "2023-10-25T21:44:37.197Z"
   },
   {
    "duration": 45,
    "start_time": "2023-10-25T21:44:37.206Z"
   },
   {
    "duration": 45,
    "start_time": "2023-10-25T21:44:37.253Z"
   },
   {
    "duration": 664,
    "start_time": "2023-10-25T21:44:37.300Z"
   },
   {
    "duration": 46,
    "start_time": "2023-10-25T21:44:37.966Z"
   },
   {
    "duration": 39,
    "start_time": "2023-10-25T21:44:38.014Z"
   },
   {
    "duration": 32,
    "start_time": "2023-10-25T21:44:38.055Z"
   },
   {
    "duration": 185,
    "start_time": "2023-10-25T21:44:38.089Z"
   },
   {
    "duration": 33,
    "start_time": "2023-10-25T21:44:38.276Z"
   },
   {
    "duration": 64,
    "start_time": "2023-10-25T21:44:38.311Z"
   },
   {
    "duration": 162,
    "start_time": "2023-10-25T21:44:38.376Z"
   },
   {
    "duration": 22,
    "start_time": "2023-10-25T21:44:38.540Z"
   },
   {
    "duration": 25,
    "start_time": "2023-10-25T21:44:38.563Z"
   },
   {
    "duration": 281,
    "start_time": "2023-10-25T21:44:38.590Z"
   },
   {
    "duration": 118,
    "start_time": "2023-10-25T21:44:38.873Z"
   },
   {
    "duration": 15,
    "start_time": "2023-10-25T21:44:38.993Z"
   },
   {
    "duration": 39,
    "start_time": "2023-10-25T21:44:39.013Z"
   },
   {
    "duration": 99,
    "start_time": "2023-10-25T21:44:39.053Z"
   },
   {
    "duration": 331,
    "start_time": "2023-10-25T21:44:39.153Z"
   },
   {
    "duration": 41,
    "start_time": "2023-10-25T21:44:39.486Z"
   },
   {
    "duration": 42,
    "start_time": "2023-10-25T21:44:39.528Z"
   },
   {
    "duration": 408,
    "start_time": "2023-10-25T21:44:39.571Z"
   },
   {
    "duration": 1207,
    "start_time": "2023-10-25T21:46:28.869Z"
   },
   {
    "duration": 189,
    "start_time": "2023-10-25T21:46:30.078Z"
   },
   {
    "duration": 23,
    "start_time": "2023-10-25T21:46:30.268Z"
   },
   {
    "duration": 29,
    "start_time": "2023-10-25T21:46:30.292Z"
   },
   {
    "duration": 24,
    "start_time": "2023-10-25T21:46:30.324Z"
   },
   {
    "duration": 40,
    "start_time": "2023-10-25T21:46:30.350Z"
   },
   {
    "duration": 87,
    "start_time": "2023-10-25T21:46:30.392Z"
   },
   {
    "duration": 186,
    "start_time": "2023-10-25T21:46:30.481Z"
   },
   {
    "duration": 310,
    "start_time": "2023-10-25T21:46:30.668Z"
   },
   {
    "duration": 45,
    "start_time": "2023-10-25T21:46:30.980Z"
   },
   {
    "duration": 84,
    "start_time": "2023-10-25T21:46:31.027Z"
   },
   {
    "duration": 123,
    "start_time": "2023-10-25T21:46:31.113Z"
   },
   {
    "duration": 108,
    "start_time": "2023-10-25T21:46:31.238Z"
   },
   {
    "duration": 69,
    "start_time": "2023-10-25T21:46:31.349Z"
   },
   {
    "duration": 707,
    "start_time": "2023-10-25T21:46:31.421Z"
   },
   {
    "duration": 33,
    "start_time": "2023-10-25T21:46:32.130Z"
   },
   {
    "duration": 53,
    "start_time": "2023-10-25T21:46:32.164Z"
   },
   {
    "duration": 35,
    "start_time": "2023-10-25T21:46:32.219Z"
   },
   {
    "duration": 177,
    "start_time": "2023-10-25T21:46:32.255Z"
   },
   {
    "duration": 28,
    "start_time": "2023-10-25T21:46:32.433Z"
   },
   {
    "duration": 78,
    "start_time": "2023-10-25T21:46:32.463Z"
   },
   {
    "duration": 151,
    "start_time": "2023-10-25T21:46:32.542Z"
   },
   {
    "duration": 32,
    "start_time": "2023-10-25T21:46:32.694Z"
   },
   {
    "duration": 19,
    "start_time": "2023-10-25T21:46:32.727Z"
   },
   {
    "duration": 286,
    "start_time": "2023-10-25T21:46:32.747Z"
   },
   {
    "duration": 122,
    "start_time": "2023-10-25T21:46:33.034Z"
   },
   {
    "duration": 6,
    "start_time": "2023-10-25T21:46:33.158Z"
   },
   {
    "duration": 75,
    "start_time": "2023-10-25T21:46:33.165Z"
   },
   {
    "duration": 92,
    "start_time": "2023-10-25T21:46:33.241Z"
   },
   {
    "duration": 327,
    "start_time": "2023-10-25T21:46:33.334Z"
   },
   {
    "duration": 34,
    "start_time": "2023-10-25T21:46:33.662Z"
   },
   {
    "duration": 51,
    "start_time": "2023-10-25T21:46:33.708Z"
   },
   {
    "duration": 433,
    "start_time": "2023-10-25T21:46:33.761Z"
   },
   {
    "duration": 1151,
    "start_time": "2023-10-25T21:49:12.717Z"
   },
   {
    "duration": 180,
    "start_time": "2023-10-25T21:49:13.870Z"
   },
   {
    "duration": 25,
    "start_time": "2023-10-25T21:49:14.053Z"
   },
   {
    "duration": 20,
    "start_time": "2023-10-25T21:49:14.080Z"
   },
   {
    "duration": 22,
    "start_time": "2023-10-25T21:49:14.102Z"
   },
   {
    "duration": 30,
    "start_time": "2023-10-25T21:49:14.126Z"
   },
   {
    "duration": 24,
    "start_time": "2023-10-25T21:49:14.157Z"
   },
   {
    "duration": 100,
    "start_time": "2023-10-25T21:49:14.183Z"
   },
   {
    "duration": 263,
    "start_time": "2023-10-25T21:49:14.284Z"
   },
   {
    "duration": 19,
    "start_time": "2023-10-25T21:49:14.550Z"
   },
   {
    "duration": 49,
    "start_time": "2023-10-25T21:49:14.570Z"
   },
   {
    "duration": 7,
    "start_time": "2023-10-25T21:49:14.622Z"
   },
   {
    "duration": 19,
    "start_time": "2023-10-25T21:49:14.631Z"
   },
   {
    "duration": 46,
    "start_time": "2023-10-25T21:49:14.652Z"
   },
   {
    "duration": 662,
    "start_time": "2023-10-25T21:49:14.700Z"
   },
   {
    "duration": 32,
    "start_time": "2023-10-25T21:49:15.363Z"
   },
   {
    "duration": 40,
    "start_time": "2023-10-25T21:49:15.397Z"
   },
   {
    "duration": 37,
    "start_time": "2023-10-25T21:49:15.438Z"
   },
   {
    "duration": 178,
    "start_time": "2023-10-25T21:49:15.476Z"
   },
   {
    "duration": 35,
    "start_time": "2023-10-25T21:49:15.655Z"
   },
   {
    "duration": 74,
    "start_time": "2023-10-25T21:49:15.692Z"
   },
   {
    "duration": 169,
    "start_time": "2023-10-25T21:49:15.768Z"
   },
   {
    "duration": 30,
    "start_time": "2023-10-25T21:49:15.939Z"
   },
   {
    "duration": 17,
    "start_time": "2023-10-25T21:49:15.970Z"
   },
   {
    "duration": 367,
    "start_time": "2023-10-25T21:49:15.988Z"
   },
   {
    "duration": 134,
    "start_time": "2023-10-25T21:49:16.356Z"
   },
   {
    "duration": 7,
    "start_time": "2023-10-25T21:49:16.492Z"
   },
   {
    "duration": 47,
    "start_time": "2023-10-25T21:49:16.509Z"
   },
   {
    "duration": 86,
    "start_time": "2023-10-25T21:49:16.558Z"
   },
   {
    "duration": 348,
    "start_time": "2023-10-25T21:49:16.646Z"
   },
   {
    "duration": 46,
    "start_time": "2023-10-25T21:49:16.995Z"
   },
   {
    "duration": 60,
    "start_time": "2023-10-25T21:49:17.043Z"
   },
   {
    "duration": 398,
    "start_time": "2023-10-25T21:49:17.105Z"
   },
   {
    "duration": 1300,
    "start_time": "2023-10-25T21:51:47.323Z"
   },
   {
    "duration": 184,
    "start_time": "2023-10-25T21:51:48.626Z"
   },
   {
    "duration": 27,
    "start_time": "2023-10-25T21:51:48.815Z"
   },
   {
    "duration": 10,
    "start_time": "2023-10-25T21:51:48.844Z"
   },
   {
    "duration": 8,
    "start_time": "2023-10-25T21:51:48.857Z"
   },
   {
    "duration": 42,
    "start_time": "2023-10-25T21:51:48.867Z"
   },
   {
    "duration": 21,
    "start_time": "2023-10-25T21:51:48.911Z"
   },
   {
    "duration": 99,
    "start_time": "2023-10-25T21:51:48.934Z"
   },
   {
    "duration": 263,
    "start_time": "2023-10-25T21:51:49.035Z"
   },
   {
    "duration": 28,
    "start_time": "2023-10-25T21:51:49.300Z"
   },
   {
    "duration": 57,
    "start_time": "2023-10-25T21:51:49.330Z"
   },
   {
    "duration": 10,
    "start_time": "2023-10-25T21:51:49.389Z"
   },
   {
    "duration": 28,
    "start_time": "2023-10-25T21:51:49.401Z"
   },
   {
    "duration": 78,
    "start_time": "2023-10-25T21:51:49.431Z"
   },
   {
    "duration": 665,
    "start_time": "2023-10-25T21:51:49.514Z"
   },
   {
    "duration": 50,
    "start_time": "2023-10-25T21:51:50.181Z"
   },
   {
    "duration": 20,
    "start_time": "2023-10-25T21:51:50.233Z"
   },
   {
    "duration": 44,
    "start_time": "2023-10-25T21:51:50.255Z"
   },
   {
    "duration": 164,
    "start_time": "2023-10-25T21:51:50.301Z"
   },
   {
    "duration": 29,
    "start_time": "2023-10-25T21:51:50.466Z"
   },
   {
    "duration": 68,
    "start_time": "2023-10-25T21:51:50.507Z"
   },
   {
    "duration": 170,
    "start_time": "2023-10-25T21:51:50.576Z"
   },
   {
    "duration": 23,
    "start_time": "2023-10-25T21:51:50.747Z"
   },
   {
    "duration": 15,
    "start_time": "2023-10-25T21:51:50.771Z"
   },
   {
    "duration": 302,
    "start_time": "2023-10-25T21:51:50.787Z"
   },
   {
    "duration": 537,
    "start_time": "2023-10-25T21:51:51.091Z"
   },
   {
    "duration": 261,
    "start_time": "2023-10-25T21:51:51.630Z"
   },
   {
    "duration": 14,
    "start_time": "2023-10-25T21:51:51.893Z"
   },
   {
    "duration": 106,
    "start_time": "2023-10-25T21:51:51.908Z"
   },
   {
    "duration": 110,
    "start_time": "2023-10-25T21:51:52.017Z"
   },
   {
    "duration": 409,
    "start_time": "2023-10-25T21:51:52.129Z"
   },
   {
    "duration": 51,
    "start_time": "2023-10-25T21:51:52.541Z"
   },
   {
    "duration": 59,
    "start_time": "2023-10-25T21:51:52.594Z"
   },
   {
    "duration": 447,
    "start_time": "2023-10-25T21:51:52.655Z"
   },
   {
    "duration": 1356,
    "start_time": "2023-10-25T21:53:00.788Z"
   },
   {
    "duration": 187,
    "start_time": "2023-10-25T21:53:02.146Z"
   },
   {
    "duration": 23,
    "start_time": "2023-10-25T21:53:02.334Z"
   },
   {
    "duration": 19,
    "start_time": "2023-10-25T21:53:02.358Z"
   },
   {
    "duration": 22,
    "start_time": "2023-10-25T21:53:02.381Z"
   },
   {
    "duration": 33,
    "start_time": "2023-10-25T21:53:02.404Z"
   },
   {
    "duration": 20,
    "start_time": "2023-10-25T21:53:02.439Z"
   },
   {
    "duration": 83,
    "start_time": "2023-10-25T21:53:02.461Z"
   },
   {
    "duration": 277,
    "start_time": "2023-10-25T21:53:02.546Z"
   },
   {
    "duration": 18,
    "start_time": "2023-10-25T21:53:02.826Z"
   },
   {
    "duration": 33,
    "start_time": "2023-10-25T21:53:02.845Z"
   },
   {
    "duration": 6,
    "start_time": "2023-10-25T21:53:02.881Z"
   },
   {
    "duration": 23,
    "start_time": "2023-10-25T21:53:02.888Z"
   },
   {
    "duration": 35,
    "start_time": "2023-10-25T21:53:02.919Z"
   },
   {
    "duration": 713,
    "start_time": "2023-10-25T21:53:02.955Z"
   },
   {
    "duration": 39,
    "start_time": "2023-10-25T21:53:03.669Z"
   },
   {
    "duration": 23,
    "start_time": "2023-10-25T21:53:03.710Z"
   },
   {
    "duration": 35,
    "start_time": "2023-10-25T21:53:03.735Z"
   },
   {
    "duration": 180,
    "start_time": "2023-10-25T21:53:03.772Z"
   },
   {
    "duration": 27,
    "start_time": "2023-10-25T21:53:03.954Z"
   },
   {
    "duration": 81,
    "start_time": "2023-10-25T21:53:03.983Z"
   },
   {
    "duration": 160,
    "start_time": "2023-10-25T21:53:04.066Z"
   },
   {
    "duration": 21,
    "start_time": "2023-10-25T21:53:04.227Z"
   },
   {
    "duration": 15,
    "start_time": "2023-10-25T21:53:04.250Z"
   },
   {
    "duration": 294,
    "start_time": "2023-10-25T21:53:04.266Z"
   },
   {
    "duration": 480,
    "start_time": "2023-10-25T21:53:04.562Z"
   },
   {
    "duration": 1,
    "start_time": "2023-10-25T21:53:05.043Z"
   },
   {
    "duration": 0,
    "start_time": "2023-10-25T21:53:05.045Z"
   },
   {
    "duration": 0,
    "start_time": "2023-10-25T21:53:05.046Z"
   },
   {
    "duration": 0,
    "start_time": "2023-10-25T21:53:05.047Z"
   },
   {
    "duration": 0,
    "start_time": "2023-10-25T21:53:05.048Z"
   },
   {
    "duration": 0,
    "start_time": "2023-10-25T21:53:05.049Z"
   },
   {
    "duration": 0,
    "start_time": "2023-10-25T21:53:05.050Z"
   },
   {
    "duration": 0,
    "start_time": "2023-10-25T21:53:05.051Z"
   },
   {
    "duration": 1303,
    "start_time": "2023-10-25T21:53:21.481Z"
   },
   {
    "duration": 183,
    "start_time": "2023-10-25T21:53:22.786Z"
   },
   {
    "duration": 22,
    "start_time": "2023-10-25T21:53:22.971Z"
   },
   {
    "duration": 20,
    "start_time": "2023-10-25T21:53:22.994Z"
   },
   {
    "duration": 12,
    "start_time": "2023-10-25T21:53:23.018Z"
   },
   {
    "duration": 27,
    "start_time": "2023-10-25T21:53:23.032Z"
   },
   {
    "duration": 22,
    "start_time": "2023-10-25T21:53:23.061Z"
   },
   {
    "duration": 99,
    "start_time": "2023-10-25T21:53:23.086Z"
   },
   {
    "duration": 295,
    "start_time": "2023-10-25T21:53:23.187Z"
   },
   {
    "duration": 32,
    "start_time": "2023-10-25T21:53:23.484Z"
   },
   {
    "duration": 37,
    "start_time": "2023-10-25T21:53:23.519Z"
   },
   {
    "duration": 6,
    "start_time": "2023-10-25T21:53:23.558Z"
   },
   {
    "duration": 4,
    "start_time": "2023-10-25T21:53:23.565Z"
   },
   {
    "duration": 62,
    "start_time": "2023-10-25T21:53:23.571Z"
   },
   {
    "duration": 644,
    "start_time": "2023-10-25T21:53:23.635Z"
   },
   {
    "duration": 45,
    "start_time": "2023-10-25T21:53:24.281Z"
   },
   {
    "duration": 22,
    "start_time": "2023-10-25T21:53:24.328Z"
   },
   {
    "duration": 33,
    "start_time": "2023-10-25T21:53:24.351Z"
   },
   {
    "duration": 183,
    "start_time": "2023-10-25T21:53:24.386Z"
   },
   {
    "duration": 37,
    "start_time": "2023-10-25T21:53:24.571Z"
   },
   {
    "duration": 63,
    "start_time": "2023-10-25T21:53:24.610Z"
   },
   {
    "duration": 171,
    "start_time": "2023-10-25T21:53:24.676Z"
   },
   {
    "duration": 23,
    "start_time": "2023-10-25T21:53:24.849Z"
   },
   {
    "duration": 32,
    "start_time": "2023-10-25T21:53:24.875Z"
   },
   {
    "duration": 275,
    "start_time": "2023-10-25T21:53:24.910Z"
   },
   {
    "duration": 654,
    "start_time": "2023-10-25T21:53:25.187Z"
   },
   {
    "duration": 161,
    "start_time": "2023-10-25T21:53:25.843Z"
   },
   {
    "duration": 9,
    "start_time": "2023-10-25T21:53:26.006Z"
   },
   {
    "duration": 62,
    "start_time": "2023-10-25T21:53:26.018Z"
   },
   {
    "duration": 89,
    "start_time": "2023-10-25T21:53:26.082Z"
   },
   {
    "duration": 334,
    "start_time": "2023-10-25T21:53:26.173Z"
   },
   {
    "duration": 39,
    "start_time": "2023-10-25T21:53:26.509Z"
   },
   {
    "duration": 38,
    "start_time": "2023-10-25T21:53:26.550Z"
   },
   {
    "duration": 418,
    "start_time": "2023-10-25T21:53:26.607Z"
   },
   {
    "duration": 1175,
    "start_time": "2023-10-25T21:54:29.257Z"
   },
   {
    "duration": 190,
    "start_time": "2023-10-25T21:54:30.434Z"
   },
   {
    "duration": 24,
    "start_time": "2023-10-25T21:54:30.626Z"
   },
   {
    "duration": 23,
    "start_time": "2023-10-25T21:54:30.652Z"
   },
   {
    "duration": 36,
    "start_time": "2023-10-25T21:54:30.676Z"
   },
   {
    "duration": 52,
    "start_time": "2023-10-25T21:54:30.713Z"
   },
   {
    "duration": 46,
    "start_time": "2023-10-25T21:54:30.766Z"
   },
   {
    "duration": 97,
    "start_time": "2023-10-25T21:54:30.814Z"
   },
   {
    "duration": 288,
    "start_time": "2023-10-25T21:54:30.913Z"
   },
   {
    "duration": 19,
    "start_time": "2023-10-25T21:54:31.208Z"
   },
   {
    "duration": 60,
    "start_time": "2023-10-25T21:54:31.229Z"
   },
   {
    "duration": 17,
    "start_time": "2023-10-25T21:54:31.291Z"
   },
   {
    "duration": 86,
    "start_time": "2023-10-25T21:54:31.310Z"
   },
   {
    "duration": 75,
    "start_time": "2023-10-25T21:54:31.397Z"
   },
   {
    "duration": 605,
    "start_time": "2023-10-25T21:54:31.474Z"
   },
   {
    "duration": 38,
    "start_time": "2023-10-25T21:54:32.081Z"
   },
   {
    "duration": 22,
    "start_time": "2023-10-25T21:54:32.121Z"
   },
   {
    "duration": 39,
    "start_time": "2023-10-25T21:54:32.145Z"
   },
   {
    "duration": 174,
    "start_time": "2023-10-25T21:54:32.186Z"
   },
   {
    "duration": 28,
    "start_time": "2023-10-25T21:54:32.361Z"
   },
   {
    "duration": 70,
    "start_time": "2023-10-25T21:54:32.391Z"
   },
   {
    "duration": 154,
    "start_time": "2023-10-25T21:54:32.462Z"
   },
   {
    "duration": 22,
    "start_time": "2023-10-25T21:54:32.618Z"
   },
   {
    "duration": 14,
    "start_time": "2023-10-25T21:54:32.641Z"
   },
   {
    "duration": 278,
    "start_time": "2023-10-25T21:54:32.656Z"
   },
   {
    "duration": 419,
    "start_time": "2023-10-25T21:54:32.936Z"
   },
   {
    "duration": 199,
    "start_time": "2023-10-25T21:54:33.357Z"
   },
   {
    "duration": 7,
    "start_time": "2023-10-25T21:54:33.559Z"
   },
   {
    "duration": 70,
    "start_time": "2023-10-25T21:54:33.567Z"
   },
   {
    "duration": 87,
    "start_time": "2023-10-25T21:54:33.639Z"
   },
   {
    "duration": 315,
    "start_time": "2023-10-25T21:54:33.727Z"
   },
   {
    "duration": 30,
    "start_time": "2023-10-25T21:54:34.044Z"
   },
   {
    "duration": 61,
    "start_time": "2023-10-25T21:54:34.076Z"
   },
   {
    "duration": 378,
    "start_time": "2023-10-25T21:54:34.138Z"
   },
   {
    "duration": 1301,
    "start_time": "2023-10-25T22:13:27.439Z"
   },
   {
    "duration": 183,
    "start_time": "2023-10-25T22:13:28.743Z"
   },
   {
    "duration": 24,
    "start_time": "2023-10-25T22:13:28.928Z"
   },
   {
    "duration": 12,
    "start_time": "2023-10-25T22:13:28.953Z"
   },
   {
    "duration": 9,
    "start_time": "2023-10-25T22:13:28.967Z"
   },
   {
    "duration": 18,
    "start_time": "2023-10-25T22:13:29.000Z"
   },
   {
    "duration": 21,
    "start_time": "2023-10-25T22:13:29.020Z"
   },
   {
    "duration": 96,
    "start_time": "2023-10-25T22:13:29.043Z"
   },
   {
    "duration": 269,
    "start_time": "2023-10-25T22:13:29.141Z"
   },
   {
    "duration": 18,
    "start_time": "2023-10-25T22:13:29.411Z"
   },
   {
    "duration": 30,
    "start_time": "2023-10-25T22:13:29.431Z"
   },
   {
    "duration": 6,
    "start_time": "2023-10-25T22:13:29.463Z"
   },
   {
    "duration": 3,
    "start_time": "2023-10-25T22:13:29.471Z"
   },
   {
    "duration": 30,
    "start_time": "2023-10-25T22:13:29.503Z"
   },
   {
    "duration": 661,
    "start_time": "2023-10-25T22:13:29.535Z"
   },
   {
    "duration": 33,
    "start_time": "2023-10-25T22:13:30.200Z"
   },
   {
    "duration": 31,
    "start_time": "2023-10-25T22:13:30.234Z"
   },
   {
    "duration": 83,
    "start_time": "2023-10-25T22:13:30.266Z"
   },
   {
    "duration": 215,
    "start_time": "2023-10-25T22:13:30.351Z"
   },
   {
    "duration": 34,
    "start_time": "2023-10-25T22:13:30.568Z"
   },
   {
    "duration": 67,
    "start_time": "2023-10-25T22:13:30.604Z"
   },
   {
    "duration": 160,
    "start_time": "2023-10-25T22:13:30.673Z"
   },
   {
    "duration": 34,
    "start_time": "2023-10-25T22:13:30.835Z"
   },
   {
    "duration": 34,
    "start_time": "2023-10-25T22:13:30.870Z"
   },
   {
    "duration": 336,
    "start_time": "2023-10-25T22:13:30.906Z"
   },
   {
    "duration": 653,
    "start_time": "2023-10-25T22:13:31.243Z"
   },
   {
    "duration": 205,
    "start_time": "2023-10-25T22:13:31.899Z"
   },
   {
    "duration": 6,
    "start_time": "2023-10-25T22:13:32.106Z"
   },
   {
    "duration": 228,
    "start_time": "2023-10-25T22:13:32.114Z"
   },
   {
    "duration": 153,
    "start_time": "2023-10-25T22:13:32.343Z"
   },
   {
    "duration": 304,
    "start_time": "2023-10-25T22:13:32.497Z"
   },
   {
    "duration": 35,
    "start_time": "2023-10-25T22:13:32.803Z"
   },
   {
    "duration": 52,
    "start_time": "2023-10-25T22:13:32.840Z"
   },
   {
    "duration": 414,
    "start_time": "2023-10-25T22:13:32.902Z"
   },
   {
    "duration": 1366,
    "start_time": "2023-10-26T06:47:03.426Z"
   },
   {
    "duration": 140,
    "start_time": "2023-10-26T06:47:04.794Z"
   },
   {
    "duration": 17,
    "start_time": "2023-10-26T06:47:04.936Z"
   },
   {
    "duration": 9,
    "start_time": "2023-10-26T06:47:04.955Z"
   },
   {
    "duration": 16,
    "start_time": "2023-10-26T06:47:04.965Z"
   },
   {
    "duration": 48,
    "start_time": "2023-10-26T06:47:04.982Z"
   },
   {
    "duration": 22,
    "start_time": "2023-10-26T06:47:05.031Z"
   },
   {
    "duration": 75,
    "start_time": "2023-10-26T06:47:05.055Z"
   },
   {
    "duration": 246,
    "start_time": "2023-10-26T06:47:05.131Z"
   },
   {
    "duration": 17,
    "start_time": "2023-10-26T06:47:05.379Z"
   },
   {
    "duration": 26,
    "start_time": "2023-10-26T06:47:05.398Z"
   },
   {
    "duration": 5,
    "start_time": "2023-10-26T06:47:05.439Z"
   },
   {
    "duration": 36,
    "start_time": "2023-10-26T06:47:05.446Z"
   },
   {
    "duration": 59,
    "start_time": "2023-10-26T06:47:05.483Z"
   },
   {
    "duration": 551,
    "start_time": "2023-10-26T06:47:05.544Z"
   },
   {
    "duration": 27,
    "start_time": "2023-10-26T06:47:06.096Z"
   },
   {
    "duration": 25,
    "start_time": "2023-10-26T06:47:06.124Z"
   },
   {
    "duration": 30,
    "start_time": "2023-10-26T06:47:06.150Z"
   },
   {
    "duration": 164,
    "start_time": "2023-10-26T06:47:06.181Z"
   },
   {
    "duration": 29,
    "start_time": "2023-10-26T06:47:06.347Z"
   },
   {
    "duration": 71,
    "start_time": "2023-10-26T06:47:06.378Z"
   },
   {
    "duration": 136,
    "start_time": "2023-10-26T06:47:06.451Z"
   },
   {
    "duration": 19,
    "start_time": "2023-10-26T06:47:06.588Z"
   },
   {
    "duration": 12,
    "start_time": "2023-10-26T06:47:06.609Z"
   },
   {
    "duration": 260,
    "start_time": "2023-10-26T06:47:06.622Z"
   },
   {
    "duration": 520,
    "start_time": "2023-10-26T06:47:06.884Z"
   },
   {
    "duration": 167,
    "start_time": "2023-10-26T06:47:07.406Z"
   },
   {
    "duration": 6,
    "start_time": "2023-10-26T06:47:07.576Z"
   },
   {
    "duration": 45,
    "start_time": "2023-10-26T06:47:07.583Z"
   },
   {
    "duration": 83,
    "start_time": "2023-10-26T06:47:07.630Z"
   },
   {
    "duration": 297,
    "start_time": "2023-10-26T06:47:07.714Z"
   },
   {
    "duration": 36,
    "start_time": "2023-10-26T06:47:08.013Z"
   },
   {
    "duration": 46,
    "start_time": "2023-10-26T06:47:08.050Z"
   },
   {
    "duration": 348,
    "start_time": "2023-10-26T06:47:08.098Z"
   },
   {
    "duration": 447,
    "start_time": "2023-10-26T06:58:42.283Z"
   },
   {
    "duration": 1166,
    "start_time": "2023-10-26T07:00:16.071Z"
   },
   {
    "duration": 156,
    "start_time": "2023-10-26T07:00:17.240Z"
   },
   {
    "duration": 18,
    "start_time": "2023-10-26T07:00:17.397Z"
   },
   {
    "duration": 8,
    "start_time": "2023-10-26T07:00:17.416Z"
   },
   {
    "duration": 18,
    "start_time": "2023-10-26T07:00:17.426Z"
   },
   {
    "duration": 17,
    "start_time": "2023-10-26T07:00:17.446Z"
   },
   {
    "duration": 14,
    "start_time": "2023-10-26T07:00:17.465Z"
   },
   {
    "duration": 91,
    "start_time": "2023-10-26T07:00:17.480Z"
   },
   {
    "duration": 269,
    "start_time": "2023-10-26T07:00:17.572Z"
   },
   {
    "duration": 23,
    "start_time": "2023-10-26T07:00:17.842Z"
   },
   {
    "duration": 28,
    "start_time": "2023-10-26T07:00:17.866Z"
   },
   {
    "duration": 5,
    "start_time": "2023-10-26T07:00:17.896Z"
   },
   {
    "duration": 4,
    "start_time": "2023-10-26T07:00:17.902Z"
   },
   {
    "duration": 60,
    "start_time": "2023-10-26T07:00:17.909Z"
   },
   {
    "duration": 610,
    "start_time": "2023-10-26T07:00:17.971Z"
   },
   {
    "duration": 29,
    "start_time": "2023-10-26T07:00:18.582Z"
   },
   {
    "duration": 50,
    "start_time": "2023-10-26T07:00:18.612Z"
   },
   {
    "duration": 22,
    "start_time": "2023-10-26T07:00:18.664Z"
   },
   {
    "duration": 33,
    "start_time": "2023-10-26T07:00:18.688Z"
   },
   {
    "duration": 168,
    "start_time": "2023-10-26T07:00:18.723Z"
   },
   {
    "duration": 26,
    "start_time": "2023-10-26T07:00:18.892Z"
   },
   {
    "duration": 73,
    "start_time": "2023-10-26T07:00:18.919Z"
   },
   {
    "duration": 138,
    "start_time": "2023-10-26T07:00:18.993Z"
   },
   {
    "duration": 24,
    "start_time": "2023-10-26T07:00:19.132Z"
   },
   {
    "duration": 14,
    "start_time": "2023-10-26T07:00:19.157Z"
   },
   {
    "duration": 265,
    "start_time": "2023-10-26T07:00:19.172Z"
   },
   {
    "duration": 569,
    "start_time": "2023-10-26T07:00:19.440Z"
   },
   {
    "duration": 244,
    "start_time": "2023-10-26T07:00:20.011Z"
   },
   {
    "duration": 9,
    "start_time": "2023-10-26T07:00:20.257Z"
   },
   {
    "duration": 46,
    "start_time": "2023-10-26T07:00:20.268Z"
   },
   {
    "duration": 86,
    "start_time": "2023-10-26T07:00:20.315Z"
   },
   {
    "duration": 319,
    "start_time": "2023-10-26T07:00:20.403Z"
   },
   {
    "duration": 43,
    "start_time": "2023-10-26T07:00:20.723Z"
   },
   {
    "duration": 40,
    "start_time": "2023-10-26T07:00:20.768Z"
   },
   {
    "duration": 402,
    "start_time": "2023-10-26T07:00:20.809Z"
   },
   {
    "duration": 76,
    "start_time": "2023-10-26T07:04:03.766Z"
   },
   {
    "duration": 1470,
    "start_time": "2023-10-26T12:00:54.763Z"
   },
   {
    "duration": 654,
    "start_time": "2023-10-26T12:00:56.235Z"
   },
   {
    "duration": 25,
    "start_time": "2023-10-26T12:00:56.891Z"
   },
   {
    "duration": 32,
    "start_time": "2023-10-26T12:00:56.918Z"
   },
   {
    "duration": 25,
    "start_time": "2023-10-26T12:00:56.952Z"
   },
   {
    "duration": 62,
    "start_time": "2023-10-26T12:00:56.979Z"
   },
   {
    "duration": 35,
    "start_time": "2023-10-26T12:00:57.042Z"
   },
   {
    "duration": 85,
    "start_time": "2023-10-26T12:00:57.078Z"
   },
   {
    "duration": 278,
    "start_time": "2023-10-26T12:00:57.165Z"
   },
   {
    "duration": 17,
    "start_time": "2023-10-26T12:00:57.445Z"
   },
   {
    "duration": 28,
    "start_time": "2023-10-26T12:00:57.464Z"
   },
   {
    "duration": 7,
    "start_time": "2023-10-26T12:00:57.494Z"
   },
   {
    "duration": 9,
    "start_time": "2023-10-26T12:00:57.503Z"
   },
   {
    "duration": 75,
    "start_time": "2023-10-26T12:00:57.515Z"
   },
   {
    "duration": 605,
    "start_time": "2023-10-26T12:00:57.592Z"
   },
   {
    "duration": 51,
    "start_time": "2023-10-26T12:00:58.198Z"
   },
   {
    "duration": 44,
    "start_time": "2023-10-26T12:00:58.251Z"
   },
   {
    "duration": 25,
    "start_time": "2023-10-26T12:00:58.296Z"
   },
   {
    "duration": 52,
    "start_time": "2023-10-26T12:00:58.323Z"
   },
   {
    "duration": 160,
    "start_time": "2023-10-26T12:00:58.377Z"
   },
   {
    "duration": 30,
    "start_time": "2023-10-26T12:00:58.538Z"
   },
   {
    "duration": 79,
    "start_time": "2023-10-26T12:00:58.570Z"
   },
   {
    "duration": 152,
    "start_time": "2023-10-26T12:00:58.651Z"
   },
   {
    "duration": 22,
    "start_time": "2023-10-26T12:00:58.804Z"
   },
   {
    "duration": 26,
    "start_time": "2023-10-26T12:00:58.828Z"
   },
   {
    "duration": 281,
    "start_time": "2023-10-26T12:00:58.856Z"
   },
   {
    "duration": 512,
    "start_time": "2023-10-26T12:00:59.143Z"
   },
   {
    "duration": 195,
    "start_time": "2023-10-26T12:00:59.658Z"
   },
   {
    "duration": 7,
    "start_time": "2023-10-26T12:00:59.854Z"
   },
   {
    "duration": 70,
    "start_time": "2023-10-26T12:00:59.863Z"
   },
   {
    "duration": 85,
    "start_time": "2023-10-26T12:00:59.935Z"
   },
   {
    "duration": 384,
    "start_time": "2023-10-26T12:01:00.022Z"
   },
   {
    "duration": 44,
    "start_time": "2023-10-26T12:01:00.408Z"
   },
   {
    "duration": 108,
    "start_time": "2023-10-26T12:01:00.453Z"
   },
   {
    "duration": 64,
    "start_time": "2023-10-26T12:01:00.563Z"
   },
   {
    "duration": 52,
    "start_time": "2023-10-26T12:01:00.628Z"
   },
   {
    "duration": 59,
    "start_time": "2023-10-26T12:01:00.682Z"
   },
   {
    "duration": 414,
    "start_time": "2023-10-26T12:01:00.743Z"
   }
  ],
  "kernelspec": {
   "display_name": "Python 3 (ipykernel)",
   "language": "python",
   "name": "python3"
  },
  "language_info": {
   "codemirror_mode": {
    "name": "ipython",
    "version": 3
   },
   "file_extension": ".py",
   "mimetype": "text/x-python",
   "name": "python",
   "nbconvert_exporter": "python",
   "pygments_lexer": "ipython3",
   "version": "3.11.0"
  },
  "toc": {
   "base_numbering": 1,
   "nav_menu": {},
   "number_sections": true,
   "sideBar": true,
   "skip_h1_title": true,
   "title_cell": "Table of Contents",
   "title_sidebar": "Contents",
   "toc_cell": false,
   "toc_position": {},
   "toc_section_display": true,
   "toc_window_display": false
  }
 },
 "nbformat": 4,
 "nbformat_minor": 2
}
